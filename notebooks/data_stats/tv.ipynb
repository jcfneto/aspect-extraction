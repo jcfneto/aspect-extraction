{
 "cells": [
  {
   "cell_type": "code",
   "execution_count": 1,
   "metadata": {
    "ExecuteTime": {
     "end_time": "2023-02-08T00:06:28.030246Z",
     "start_time": "2023-02-08T00:06:27.086851Z"
    }
   },
   "outputs": [],
   "source": [
    "import matplotlib.pyplot as plt\n",
    "import pandas as pd\n",
    "import seaborn as sns\n",
    "\n",
    "from ast import literal_eval"
   ]
  },
  {
   "cell_type": "code",
   "execution_count": 2,
   "metadata": {
    "ExecuteTime": {
     "end_time": "2023-02-08T00:06:28.124159Z",
     "start_time": "2023-02-08T00:06:28.031179Z"
    }
   },
   "outputs": [],
   "source": [
    "# lendo os dados\n",
    "tv = pd.read_csv('../../datasets/stratified/tv.csv')\n",
    "\n",
    "# mudando o formato das colunas\n",
    "for col in ('tokens', 'aspect_tags'):\n",
    "    tv[col] = tv[col].apply(literal_eval)"
   ]
  },
  {
   "cell_type": "code",
   "execution_count": 3,
   "metadata": {
    "ExecuteTime": {
     "end_time": "2023-02-08T00:06:28.127781Z",
     "start_time": "2023-02-08T00:06:28.125273Z"
    }
   },
   "outputs": [],
   "source": [
    "# comprimento das reviews\n",
    "tv['lengths'] = tv.tokens.map(len)"
   ]
  },
  {
   "cell_type": "code",
   "execution_count": 4,
   "metadata": {
    "ExecuteTime": {
     "end_time": "2023-02-08T00:06:28.279228Z",
     "start_time": "2023-02-08T00:06:28.128591Z"
    }
   },
   "outputs": [
    {
     "data": {
      "text/plain": "[]"
     },
     "execution_count": 4,
     "metadata": {},
     "output_type": "execute_result"
    },
    {
     "data": {
      "text/plain": "<Figure size 432x288 with 1 Axes>",
      "image/png": "[encoded data removed]"
     },
     "metadata": {},
     "output_type": "display_data"
    }
   ],
   "source": [
    "# distribuicão dos comprimentos das reviews\n",
    "sns.histplot(tv['lengths'])\n",
    "plt.plot()"
   ]
  },
  {
   "cell_type": "code",
   "execution_count": 5,
   "metadata": {
    "ExecuteTime": {
     "end_time": "2023-02-08T00:06:28.294074Z",
     "start_time": "2023-02-08T00:06:28.280148Z"
    }
   },
   "outputs": [
    {
     "data": {
      "text/plain": "       review_number  total_aspects   has_aspect      lengths\ncount    1091.000000    1091.000000  1091.000000  1091.000000\nmean      546.000000       2.132906     0.906508    28.601283\nstd       315.088876       1.402399     0.291254    22.898010\nmin         1.000000       0.000000     0.000000    10.000000\n25%       273.500000       1.000000     1.000000    15.000000\n50%       546.000000       2.000000     1.000000    21.000000\n75%       818.500000       3.000000     1.000000    33.500000\nmax      1091.000000      10.000000     1.000000   223.000000",
      "text/html": "<div>\n<style scoped>\n    .dataframe tbody tr th:only-of-type {\n        vertical-align: middle;\n    }\n\n    .dataframe tbody tr th {\n        vertical-align: top;\n    }\n\n    .dataframe thead th {\n        text-align: right;\n    }\n</style>\n<table border=\"1\" class=\"dataframe\">\n  <thead>\n    <tr style=\"text-align: right;\">\n      <th></th>\n      <th>review_number</th>\n      <th>total_aspects</th>\n      <th>has_aspect</th>\n      <th>lengths</th>\n    </tr>\n  </thead>\n  <tbody>\n    <tr>\n      <th>count</th>\n      <td>1091.000000</td>\n      <td>1091.000000</td>\n      <td>1091.000000</td>\n      <td>1091.000000</td>\n    </tr>\n    <tr>\n      <th>mean</th>\n      <td>546.000000</td>\n      <td>2.132906</td>\n      <td>0.906508</td>\n      <td>28.601283</td>\n    </tr>\n    <tr>\n      <th>std</th>\n      <td>315.088876</td>\n      <td>1.402399</td>\n      <td>0.291254</td>\n      <td>22.898010</td>\n    </tr>\n    <tr>\n      <th>min</th>\n      <td>1.000000</td>\n      <td>0.000000</td>\n      <td>0.000000</td>\n      <td>10.000000</td>\n    </tr>\n    <tr>\n      <th>25%</th>\n      <td>273.500000</td>\n      <td>1.000000</td>\n      <td>1.000000</td>\n      <td>15.000000</td>\n    </tr>\n    <tr>\n      <th>50%</th>\n      <td>546.000000</td>\n      <td>2.000000</td>\n      <td>1.000000</td>\n      <td>21.000000</td>\n    </tr>\n    <tr>\n      <th>75%</th>\n      <td>818.500000</td>\n      <td>3.000000</td>\n      <td>1.000000</td>\n      <td>33.500000</td>\n    </tr>\n    <tr>\n      <th>max</th>\n      <td>1091.000000</td>\n      <td>10.000000</td>\n      <td>1.000000</td>\n      <td>223.000000</td>\n    </tr>\n  </tbody>\n</table>\n</div>"
     },
     "execution_count": 5,
     "metadata": {},
     "output_type": "execute_result"
    }
   ],
   "source": [
    "# estatísticas do dataset\n",
    "tv.describe().drop(columns=['fold'])"
   ]
  },
  {
   "cell_type": "code",
   "execution_count": 6,
   "metadata": {
    "ExecuteTime": {
     "end_time": "2023-02-08T00:06:28.298490Z",
     "start_time": "2023-02-08T00:06:28.294758Z"
    }
   },
   "outputs": [
    {
     "data": {
      "text/plain": "(18, 2)"
     },
     "execution_count": 6,
     "metadata": {},
     "output_type": "execute_result"
    }
   ],
   "source": [
    "# quantidade de reviews maior do que 100 e maior do que 200 tokens\n",
    "tv[tv.lengths > 100].shape[0], tv[tv.lengths > 200].shape[0]"
   ]
  },
  {
   "cell_type": "markdown",
   "metadata": {},
   "source": [
    "- São 1.091 reviews no conjunto todo (linha: `count` e coluna: `review_number`).\n",
    "- Em média, as reviews possuem 2 aspectos (linha: `mean` e coluna: `total_aspects`). Sendo 10 o maior número de aspecto em uma única review (linha: `max` e coluna: `total_aspects`).\n",
    "- 90.65% das reviews possuem ao menos um aspecto (linha: `mean` e coluna: `has_aspects`).\n",
    "- Em média, as reviews possuem aproximadamente 29 tokens (linha: `mean` e coluna: `lengths`).\n",
    "- 75% das reviews possuem até 33 tokens (linha: `75%` e coluna: `lengths`).\n",
    "- A review que possui o maior comprimento, possui 223 tokens (linha: `max` e coluna: `lengths`).\n",
    "- 18 reviews possui mais do que 100 tokens e 2 reviews possui mais do que 200."
   ]
  },
  {
   "cell_type": "code",
   "execution_count": 7,
   "metadata": {
    "ExecuteTime": {
     "end_time": "2023-02-08T00:06:28.310211Z",
     "start_time": "2023-02-08T00:06:28.299339Z"
    }
   },
   "outputs": [
    {
     "data": {
      "text/plain": "     fold  review  total_aspects  has_aspect\n0       1     109            234         102\n1       2     110            230          99\n2       3     109            236         103\n3       4     109            234          98\n4       5     109            235          98\n5       6     109            235          99\n6       7     109            226          97\n7       8     109            234          96\n8       9     109            229         100\n9      10     109            234          97\n10  Total    1091           2327         989",
      "text/html": "<div>\n<style scoped>\n    .dataframe tbody tr th:only-of-type {\n        vertical-align: middle;\n    }\n\n    .dataframe tbody tr th {\n        vertical-align: top;\n    }\n\n    .dataframe thead th {\n        text-align: right;\n    }\n</style>\n<table border=\"1\" class=\"dataframe\">\n  <thead>\n    <tr style=\"text-align: right;\">\n      <th></th>\n      <th>fold</th>\n      <th>review</th>\n      <th>total_aspects</th>\n      <th>has_aspect</th>\n    </tr>\n  </thead>\n  <tbody>\n    <tr>\n      <th>0</th>\n      <td>1</td>\n      <td>109</td>\n      <td>234</td>\n      <td>102</td>\n    </tr>\n    <tr>\n      <th>1</th>\n      <td>2</td>\n      <td>110</td>\n      <td>230</td>\n      <td>99</td>\n    </tr>\n    <tr>\n      <th>2</th>\n      <td>3</td>\n      <td>109</td>\n      <td>236</td>\n      <td>103</td>\n    </tr>\n    <tr>\n      <th>3</th>\n      <td>4</td>\n      <td>109</td>\n      <td>234</td>\n      <td>98</td>\n    </tr>\n    <tr>\n      <th>4</th>\n      <td>5</td>\n      <td>109</td>\n      <td>235</td>\n      <td>98</td>\n    </tr>\n    <tr>\n      <th>5</th>\n      <td>6</td>\n      <td>109</td>\n      <td>235</td>\n      <td>99</td>\n    </tr>\n    <tr>\n      <th>6</th>\n      <td>7</td>\n      <td>109</td>\n      <td>226</td>\n      <td>97</td>\n    </tr>\n    <tr>\n      <th>7</th>\n      <td>8</td>\n      <td>109</td>\n      <td>234</td>\n      <td>96</td>\n    </tr>\n    <tr>\n      <th>8</th>\n      <td>9</td>\n      <td>109</td>\n      <td>229</td>\n      <td>100</td>\n    </tr>\n    <tr>\n      <th>9</th>\n      <td>10</td>\n      <td>109</td>\n      <td>234</td>\n      <td>97</td>\n    </tr>\n    <tr>\n      <th>10</th>\n      <td>Total</td>\n      <td>1091</td>\n      <td>2327</td>\n      <td>989</td>\n    </tr>\n  </tbody>\n</table>\n</div>"
     },
     "execution_count": 7,
     "metadata": {},
     "output_type": "execute_result"
    }
   ],
   "source": [
    "# total de reviews por particão e total de aspectos por particão\n",
    "summary = tv.groupby(['fold']).agg({'review': 'nunique', 'total_aspects': 'sum', 'has_aspect': 'sum'}).reset_index()\n",
    "summary.loc[len(summary)] = ['Total', summary.review.sum(), summary.total_aspects.sum(), summary.has_aspect.sum()]\n",
    "summary"
   ]
  },
  {
   "cell_type": "code",
   "execution_count": 8,
   "outputs": [
    {
     "name": "stdout",
     "output_type": "stream",
     "text": [
      "\\begin{tabular}{llrrr}\n",
      "\\toprule\n",
      "{} &   fold &  review &  total\\_aspects &  has\\_aspect \\\\\n",
      "\\midrule\n",
      "0  &      1 &     109 &            234 &         102 \\\\\n",
      "1  &      2 &     110 &            230 &          99 \\\\\n",
      "2  &      3 &     109 &            236 &         103 \\\\\n",
      "3  &      4 &     109 &            234 &          98 \\\\\n",
      "4  &      5 &     109 &            235 &          98 \\\\\n",
      "5  &      6 &     109 &            235 &          99 \\\\\n",
      "6  &      7 &     109 &            226 &          97 \\\\\n",
      "7  &      8 &     109 &            234 &          96 \\\\\n",
      "8  &      9 &     109 &            229 &         100 \\\\\n",
      "9  &     10 &     109 &            234 &          97 \\\\\n",
      "10 &  Total &    1091 &           2327 &         989 \\\\\n",
      "\\bottomrule\n",
      "\\end{tabular}\n",
      "\n"
     ]
    },
    {
     "name": "stderr",
     "output_type": "stream",
     "text": [
      "/tmp/ipykernel_39510/1495726269.py:1: FutureWarning: In future versions `DataFrame.to_latex` is expected to utilise the base implementation of `Styler.to_latex` for formatting and rendering. The arguments signature may therefore change. It is recommended instead to use `DataFrame.style.to_latex` which also contains additional functionality.\n",
      "  print(summary.to_latex())\n"
     ]
    }
   ],
   "source": [
    "print(summary.to_latex())"
   ],
   "metadata": {
    "collapsed": false
   }
  },
  {
   "cell_type": "code",
   "execution_count": null,
   "outputs": [],
   "source": [],
   "metadata": {
    "collapsed": false
   }
  }
 ],
 "metadata": {
  "hide_input": false,
  "kernelspec": {
   "display_name": "Python 3 (ipykernel)",
   "language": "python",
   "name": "python3"
  },
  "language_info": {
   "codemirror_mode": {
    "name": "ipython",
    "version": 3
   },
   "file_extension": ".py",
   "mimetype": "text/x-python",
   "name": "python",
   "nbconvert_exporter": "python",
   "pygments_lexer": "ipython3",
   "version": "3.9.7"
  }
 },
 "nbformat": 4,
 "nbformat_minor": 1
}
