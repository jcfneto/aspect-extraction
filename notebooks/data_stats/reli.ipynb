{
 "cells": [
  {
   "cell_type": "code",
   "execution_count": 1,
   "metadata": {
    "ExecuteTime": {
     "end_time": "2023-03-10T18:40:52.976047Z",
     "start_time": "2023-03-10T18:40:52.064855Z"
    }
   },
   "outputs": [],
   "source": [
    "import matplotlib.pyplot as plt\n",
    "import pandas as pd\n",
    "import seaborn as sns\n",
    "\n",
    "from ast import literal_eval\n",
    "\n",
    "sns.set_style('white')"
   ]
  },
  {
   "cell_type": "code",
   "execution_count": 2,
   "metadata": {
    "ExecuteTime": {
     "end_time": "2023-03-10T18:40:53.694344Z",
     "start_time": "2023-03-10T18:40:52.977555Z"
    }
   },
   "outputs": [],
   "source": [
    "# lendo os dados\n",
    "reli = pd.read_csv('../../datasets/stratified/reli.csv')\n",
    "\n",
    "# mudando o formato das colunas\n",
    "for col in ('tokens', 'aspect_tags'):\n",
    "    reli[col] = reli[col].apply(literal_eval)"
   ]
  },
  {
   "cell_type": "code",
   "execution_count": 3,
   "metadata": {
    "ExecuteTime": {
     "end_time": "2023-03-10T18:40:53.701526Z",
     "start_time": "2023-03-10T18:40:53.696324Z"
    }
   },
   "outputs": [],
   "source": [
    "# comprimento das reviews\n",
    "reli['lengths'] = reli.tokens.map(len)"
   ]
  },
  {
   "cell_type": "code",
   "execution_count": 4,
   "metadata": {
    "ExecuteTime": {
     "end_time": "2023-03-10T18:40:53.714198Z",
     "start_time": "2023-03-10T18:40:53.703012Z"
    }
   },
   "outputs": [],
   "source": [
    "# agrupando por review\n",
    "reli_reviews = reli.groupby(['review']).agg({\n",
    "    'total_aspects': 'sum',\n",
    "    'lengths': 'sum',\n",
    "}).reset_index()\n",
    "reli_reviews['has_aspect'] = (reli_reviews.total_aspects > 0) * 1"
   ]
  },
  {
   "cell_type": "code",
   "execution_count": 5,
   "metadata": {
    "ExecuteTime": {
     "end_time": "2023-03-10T18:40:53.721813Z",
     "start_time": "2023-03-10T18:40:53.715614Z"
    }
   },
   "outputs": [
    {
     "data": {
      "text/plain": [
       "(1598,)"
      ]
     },
     "execution_count": 5,
     "metadata": {},
     "output_type": "execute_result"
    }
   ],
   "source": [
    "# reviews com mais do que um token\n",
    "reviews = reli_reviews[reli_reviews.lengths > 1].review\n",
    "reviews.shape"
   ]
  },
  {
   "cell_type": "code",
   "execution_count": 6,
   "metadata": {
    "ExecuteTime": {
     "end_time": "2023-03-10T18:40:54.139394Z",
     "start_time": "2023-03-10T18:40:53.723235Z"
    }
   },
   "outputs": [
    {
     "data": {
      "text/plain": [
       "[]"
      ]
     },
     "execution_count": 6,
     "metadata": {},
     "output_type": "execute_result"
    },
    {
     "data": {
      "image/png": "[encoded data removed]",
      "text/plain": [
       "<Figure size 432x288 with 1 Axes>"
      ]
     },
     "metadata": {},
     "output_type": "display_data"
    }
   ],
   "source": [
    "# distribuicão dos comprimentos das sentencas\n",
    "sns.histplot(reli[reli.review.isin(reviews)]['lengths'])\n",
    "plt.plot()"
   ]
  },
  {
   "cell_type": "code",
   "execution_count": 7,
   "metadata": {
    "ExecuteTime": {
     "end_time": "2023-03-10T18:40:54.334555Z",
     "start_time": "2023-03-10T18:40:54.141152Z"
    }
   },
   "outputs": [
    {
     "data": {
      "text/plain": [
       "[]"
      ]
     },
     "execution_count": 7,
     "metadata": {},
     "output_type": "execute_result"
    },
    {
     "data": {
      "image/png": "[encoded data removed]",
      "text/plain": [
       "<Figure size 432x288 with 1 Axes>"
      ]
     },
     "metadata": {},
     "output_type": "display_data"
    }
   ],
   "source": [
    "# distribuicão dos comprimentos das reviews\n",
    "sns.histplot(reli_reviews[reli_reviews.review.isin(reviews)]['lengths'])\n",
    "plt.plot()"
   ]
  },
  {
   "cell_type": "code",
   "execution_count": 8,
   "metadata": {
    "ExecuteTime": {
     "end_time": "2023-03-10T18:40:54.354885Z",
     "start_time": "2023-03-10T18:40:54.336168Z"
    }
   },
   "outputs": [
    {
     "data": {
      "text/html": [
       "<div>\n",
       "<style scoped>\n",
       "    .dataframe tbody tr th:only-of-type {\n",
       "        vertical-align: middle;\n",
       "    }\n",
       "\n",
       "    .dataframe tbody tr th {\n",
       "        vertical-align: top;\n",
       "    }\n",
       "\n",
       "    .dataframe thead th {\n",
       "        text-align: right;\n",
       "    }\n",
       "</style>\n",
       "<table border=\"1\" class=\"dataframe\">\n",
       "  <thead>\n",
       "    <tr style=\"text-align: right;\">\n",
       "      <th></th>\n",
       "      <th>review</th>\n",
       "      <th>total_aspects</th>\n",
       "      <th>has_aspect</th>\n",
       "      <th>lengths</th>\n",
       "    </tr>\n",
       "  </thead>\n",
       "  <tbody>\n",
       "    <tr>\n",
       "      <th>count</th>\n",
       "      <td>12429.000000</td>\n",
       "      <td>12429.000000</td>\n",
       "      <td>12429.000000</td>\n",
       "      <td>12429.000000</td>\n",
       "    </tr>\n",
       "    <tr>\n",
       "      <th>mean</th>\n",
       "      <td>763.707619</td>\n",
       "      <td>0.222705</td>\n",
       "      <td>0.179580</td>\n",
       "      <td>20.955025</td>\n",
       "    </tr>\n",
       "    <tr>\n",
       "      <th>std</th>\n",
       "      <td>449.908885</td>\n",
       "      <td>0.532614</td>\n",
       "      <td>0.383853</td>\n",
       "      <td>18.277212</td>\n",
       "    </tr>\n",
       "    <tr>\n",
       "      <th>min</th>\n",
       "      <td>1.000000</td>\n",
       "      <td>0.000000</td>\n",
       "      <td>0.000000</td>\n",
       "      <td>1.000000</td>\n",
       "    </tr>\n",
       "    <tr>\n",
       "      <th>25%</th>\n",
       "      <td>358.000000</td>\n",
       "      <td>0.000000</td>\n",
       "      <td>0.000000</td>\n",
       "      <td>9.000000</td>\n",
       "    </tr>\n",
       "    <tr>\n",
       "      <th>50%</th>\n",
       "      <td>722.000000</td>\n",
       "      <td>0.000000</td>\n",
       "      <td>0.000000</td>\n",
       "      <td>17.000000</td>\n",
       "    </tr>\n",
       "    <tr>\n",
       "      <th>75%</th>\n",
       "      <td>1138.000000</td>\n",
       "      <td>0.000000</td>\n",
       "      <td>0.000000</td>\n",
       "      <td>28.000000</td>\n",
       "    </tr>\n",
       "    <tr>\n",
       "      <th>max</th>\n",
       "      <td>1601.000000</td>\n",
       "      <td>5.000000</td>\n",
       "      <td>1.000000</td>\n",
       "      <td>404.000000</td>\n",
       "    </tr>\n",
       "  </tbody>\n",
       "</table>\n",
       "</div>"
      ],
      "text/plain": [
       "             review  total_aspects    has_aspect       lengths\n",
       "count  12429.000000   12429.000000  12429.000000  12429.000000\n",
       "mean     763.707619       0.222705      0.179580     20.955025\n",
       "std      449.908885       0.532614      0.383853     18.277212\n",
       "min        1.000000       0.000000      0.000000      1.000000\n",
       "25%      358.000000       0.000000      0.000000      9.000000\n",
       "50%      722.000000       0.000000      0.000000     17.000000\n",
       "75%     1138.000000       0.000000      0.000000     28.000000\n",
       "max     1601.000000       5.000000      1.000000    404.000000"
      ]
     },
     "execution_count": 8,
     "metadata": {},
     "output_type": "execute_result"
    }
   ],
   "source": [
    "# estatísticas a nível de sentencas\n",
    "reli[reli.review.isin(reviews)].describe().drop(columns=['fold'])"
   ]
  },
  {
   "cell_type": "code",
   "execution_count": 9,
   "metadata": {
    "ExecuteTime": {
     "end_time": "2023-03-10T18:40:54.361101Z",
     "start_time": "2023-03-10T18:40:54.356424Z"
    }
   },
   "outputs": [
    {
     "data": {
      "text/plain": [
       "(58, 5)"
      ]
     },
     "execution_count": 9,
     "metadata": {},
     "output_type": "execute_result"
    }
   ],
   "source": [
    "# quantidade de sentencas maior do que 100 e maior do que 200 tokens\n",
    "reli[reli.lengths > 100].shape[0], reli[reli.lengths > 200].shape[0]"
   ]
  },
  {
   "cell_type": "markdown",
   "metadata": {},
   "source": [
    "- São 12.429 sentencas (linha: `count`).\n",
    "- 1.601 reviews (linha: `max` e coluna: `review`).\n",
    "- Apenas 18% das sentencas possuem aspectos (linha `mean` e coluna: `has_aspect`).\n",
    "- Em média, as sentencas possui aproximadamente 21 aspectos (linha: `mean` e coluna: `lengths`).\n",
    "- 75% das sentencas possuem até 28 tokens (linha: `75%` e coluna: `lengths`).\n",
    "- A sentenca com maior comprimento, possui 404 (linha: `max` e coluna: `lengths`).\n",
    "- 58 sentencas possui mais do que 100 tokens e 5 possui mais do que 200."
   ]
  },
  {
   "cell_type": "code",
   "execution_count": 10,
   "metadata": {
    "ExecuteTime": {
     "end_time": "2023-03-10T18:40:54.375935Z",
     "start_time": "2023-03-10T18:40:54.363219Z"
    }
   },
   "outputs": [
    {
     "data": {
      "text/html": [
       "<div>\n",
       "<style scoped>\n",
       "    .dataframe tbody tr th:only-of-type {\n",
       "        vertical-align: middle;\n",
       "    }\n",
       "\n",
       "    .dataframe tbody tr th {\n",
       "        vertical-align: top;\n",
       "    }\n",
       "\n",
       "    .dataframe thead th {\n",
       "        text-align: right;\n",
       "    }\n",
       "</style>\n",
       "<table border=\"1\" class=\"dataframe\">\n",
       "  <thead>\n",
       "    <tr style=\"text-align: right;\">\n",
       "      <th></th>\n",
       "      <th>review</th>\n",
       "      <th>total_aspects</th>\n",
       "      <th>lengths</th>\n",
       "      <th>has_aspect</th>\n",
       "    </tr>\n",
       "  </thead>\n",
       "  <tbody>\n",
       "    <tr>\n",
       "      <th>count</th>\n",
       "      <td>1598.000000</td>\n",
       "      <td>1598.000000</td>\n",
       "      <td>1598.000000</td>\n",
       "      <td>1598.000000</td>\n",
       "    </tr>\n",
       "    <tr>\n",
       "      <th>mean</th>\n",
       "      <td>801.304130</td>\n",
       "      <td>1.732165</td>\n",
       "      <td>162.984981</td>\n",
       "      <td>0.717772</td>\n",
       "    </tr>\n",
       "    <tr>\n",
       "      <th>std</th>\n",
       "      <td>462.522907</td>\n",
       "      <td>1.882817</td>\n",
       "      <td>222.514584</td>\n",
       "      <td>0.450225</td>\n",
       "    </tr>\n",
       "    <tr>\n",
       "      <th>min</th>\n",
       "      <td>1.000000</td>\n",
       "      <td>0.000000</td>\n",
       "      <td>2.000000</td>\n",
       "      <td>0.000000</td>\n",
       "    </tr>\n",
       "    <tr>\n",
       "      <th>25%</th>\n",
       "      <td>401.250000</td>\n",
       "      <td>0.000000</td>\n",
       "      <td>44.000000</td>\n",
       "      <td>0.000000</td>\n",
       "    </tr>\n",
       "    <tr>\n",
       "      <th>50%</th>\n",
       "      <td>800.500000</td>\n",
       "      <td>1.000000</td>\n",
       "      <td>91.000000</td>\n",
       "      <td>1.000000</td>\n",
       "    </tr>\n",
       "    <tr>\n",
       "      <th>75%</th>\n",
       "      <td>1201.750000</td>\n",
       "      <td>3.000000</td>\n",
       "      <td>194.750000</td>\n",
       "      <td>1.000000</td>\n",
       "    </tr>\n",
       "    <tr>\n",
       "      <th>max</th>\n",
       "      <td>1601.000000</td>\n",
       "      <td>13.000000</td>\n",
       "      <td>2683.000000</td>\n",
       "      <td>1.000000</td>\n",
       "    </tr>\n",
       "  </tbody>\n",
       "</table>\n",
       "</div>"
      ],
      "text/plain": [
       "            review  total_aspects      lengths   has_aspect\n",
       "count  1598.000000    1598.000000  1598.000000  1598.000000\n",
       "mean    801.304130       1.732165   162.984981     0.717772\n",
       "std     462.522907       1.882817   222.514584     0.450225\n",
       "min       1.000000       0.000000     2.000000     0.000000\n",
       "25%     401.250000       0.000000    44.000000     0.000000\n",
       "50%     800.500000       1.000000    91.000000     1.000000\n",
       "75%    1201.750000       3.000000   194.750000     1.000000\n",
       "max    1601.000000      13.000000  2683.000000     1.000000"
      ]
     },
     "execution_count": 10,
     "metadata": {},
     "output_type": "execute_result"
    }
   ],
   "source": [
    "# estatísticas a nível de review\n",
    "reli_reviews[reli_reviews.review.isin(reviews)].describe()"
   ]
  },
  {
   "cell_type": "markdown",
   "metadata": {},
   "source": [
    "- Em média, as reviews possuem 1.73 aspectos (linha: `mean` e coluna: `total_aspects`).\n",
    "- 71.72% das reviews possuem aspectos (linha: `mean` e coluna: `has_aspect`).\n",
    "- Em média, cada review possui 163 tokens (linha: `mean` e coluna: `lengths`)."
   ]
  },
  {
   "cell_type": "code",
   "execution_count": 11,
   "metadata": {
    "ExecuteTime": {
     "end_time": "2023-03-10T18:40:54.381690Z",
     "start_time": "2023-03-10T18:40:54.377173Z"
    }
   },
   "outputs": [
    {
     "data": {
      "text/plain": [
       "(743, 381, 20)"
      ]
     },
     "execution_count": 11,
     "metadata": {},
     "output_type": "execute_result"
    }
   ],
   "source": [
    "# reviews com mais do que 100, 200 e 1000 tokens\n",
    "for i in (100, 200, 1000):\n",
    "    print(reli_reviews[reli_reviews.lengths > i].shape[0])"
   ]
  },
  {
   "cell_type": "code",
   "execution_count": 12,
   "metadata": {
    "ExecuteTime": {
     "end_time": "2023-03-10T18:40:54.395424Z",
     "start_time": "2023-03-10T18:40:54.384132Z"
    }
   },
   "outputs": [
    {
     "data": {
      "text/html": [
       "<div>\n",
       "<style scoped>\n",
       "    .dataframe tbody tr th:only-of-type {\n",
       "        vertical-align: middle;\n",
       "    }\n",
       "\n",
       "    .dataframe tbody tr th {\n",
       "        vertical-align: top;\n",
       "    }\n",
       "\n",
       "    .dataframe thead th {\n",
       "        text-align: right;\n",
       "    }\n",
       "</style>\n",
       "<table border=\"1\" class=\"dataframe\">\n",
       "  <thead>\n",
       "    <tr style=\"text-align: right;\">\n",
       "      <th></th>\n",
       "      <th>fold</th>\n",
       "      <th>review</th>\n",
       "      <th>total_aspects</th>\n",
       "    </tr>\n",
       "  </thead>\n",
       "  <tbody>\n",
       "    <tr>\n",
       "      <th>0</th>\n",
       "      <td>1</td>\n",
       "      <td>158</td>\n",
       "      <td>280</td>\n",
       "    </tr>\n",
       "    <tr>\n",
       "      <th>1</th>\n",
       "      <td>2</td>\n",
       "      <td>168</td>\n",
       "      <td>281</td>\n",
       "    </tr>\n",
       "    <tr>\n",
       "      <th>2</th>\n",
       "      <td>3</td>\n",
       "      <td>154</td>\n",
       "      <td>261</td>\n",
       "    </tr>\n",
       "    <tr>\n",
       "      <th>3</th>\n",
       "      <td>4</td>\n",
       "      <td>164</td>\n",
       "      <td>267</td>\n",
       "    </tr>\n",
       "    <tr>\n",
       "      <th>4</th>\n",
       "      <td>5</td>\n",
       "      <td>171</td>\n",
       "      <td>281</td>\n",
       "    </tr>\n",
       "    <tr>\n",
       "      <th>5</th>\n",
       "      <td>6</td>\n",
       "      <td>159</td>\n",
       "      <td>281</td>\n",
       "    </tr>\n",
       "    <tr>\n",
       "      <th>6</th>\n",
       "      <td>7</td>\n",
       "      <td>155</td>\n",
       "      <td>270</td>\n",
       "    </tr>\n",
       "    <tr>\n",
       "      <th>7</th>\n",
       "      <td>8</td>\n",
       "      <td>152</td>\n",
       "      <td>286</td>\n",
       "    </tr>\n",
       "    <tr>\n",
       "      <th>8</th>\n",
       "      <td>9</td>\n",
       "      <td>155</td>\n",
       "      <td>280</td>\n",
       "    </tr>\n",
       "    <tr>\n",
       "      <th>9</th>\n",
       "      <td>10</td>\n",
       "      <td>162</td>\n",
       "      <td>281</td>\n",
       "    </tr>\n",
       "    <tr>\n",
       "      <th>10</th>\n",
       "      <td>Total</td>\n",
       "      <td>1598</td>\n",
       "      <td>2768</td>\n",
       "    </tr>\n",
       "  </tbody>\n",
       "</table>\n",
       "</div>"
      ],
      "text/plain": [
       "     fold  review  total_aspects\n",
       "0       1     158            280\n",
       "1       2     168            281\n",
       "2       3     154            261\n",
       "3       4     164            267\n",
       "4       5     171            281\n",
       "5       6     159            281\n",
       "6       7     155            270\n",
       "7       8     152            286\n",
       "8       9     155            280\n",
       "9      10     162            281\n",
       "10  Total    1598           2768"
      ]
     },
     "execution_count": 12,
     "metadata": {},
     "output_type": "execute_result"
    }
   ],
   "source": [
    "# total de reviews por particão e total de aspectos por particão\n",
    "summary = (\n",
    "    reli[reli.review.isin(reviews)]\n",
    "    .groupby(['fold'])\n",
    "    .agg({'review': 'nunique', 'total_aspects': 'sum'})\n",
    "    .reset_index()\n",
    ")\n",
    "summary.loc[len(summary)] = [\n",
    "    'Total', summary.review.sum(), summary.total_aspects.sum()\n",
    "]\n",
    "\n",
    "summary"
   ]
  }
 ],
 "metadata": {
  "hide_input": false,
  "kernelspec": {
   "display_name": "Python 3 (ipykernel)",
   "language": "python",
   "name": "python3"
  },
  "language_info": {
   "codemirror_mode": {
    "name": "ipython",
    "version": 3
   },
   "file_extension": ".py",
   "mimetype": "text/x-python",
   "name": "python",
   "nbconvert_exporter": "python",
   "pygments_lexer": "ipython3",
   "version": "3.9.7"
  }
 },
 "nbformat": 4,
 "nbformat_minor": 1
}
