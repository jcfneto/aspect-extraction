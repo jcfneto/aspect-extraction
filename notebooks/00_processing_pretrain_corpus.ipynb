{
 "cells": [
  {
   "attachments": {},
   "cell_type": "markdown",
   "metadata": {
    "collapsed": false
   },
   "source": [
    "## Leitor compulsivo"
   ]
  },
  {
   "attachments": {},
   "cell_type": "markdown",
   "metadata": {
    "collapsed": false
   },
   "source": [
    "The reviews were taken from the blog Leitor Compulsivo."
   ]
  },
  {
   "cell_type": "code",
   "execution_count": null,
   "metadata": {
    "collapsed": false
   },
   "outputs": [],
   "source": [
    "import os\n",
    "import pandas as pd\n",
    "import nltk"
   ]
  },
  {
   "cell_type": "code",
   "execution_count": null,
   "metadata": {
    "collapsed": false
   },
   "outputs": [],
   "source": [
    "path_lc = '../corpus/leitor_compulsivo/'\n",
    "files_lc = [file for file in os.listdir(path_lc) if '.gitkeep' not in file]"
   ]
  },
  {
   "cell_type": "code",
   "execution_count": null,
   "metadata": {
    "collapsed": false
   },
   "outputs": [],
   "source": [
    "data_lc = pd.DataFrame()\n",
    "for i, file in enumerate(files_lc):\n",
    "    with open(os.path.join(path_lc, file), 'r') as f:\n",
    "        review = f.read()\n",
    "        curr_review = pd.DataFrame({\n",
    "            'text': review,\n",
    "            'review': [i+1],\n",
    "            'bookname_author': [file.replace('.txt', '')]\n",
    "        })\n",
    "        data_lc = pd.concat([data_lc, curr_review])\n",
    "data_lc.shape"
   ]
  },
  {
   "cell_type": "code",
   "execution_count": null,
   "metadata": {
    "collapsed": false
   },
   "outputs": [],
   "source": [
    "data_lc.to_csv('../corpus/preprocessed/reviews_lc.csv', index=False)"
   ]
  },
  {
   "cell_type": "code",
   "execution_count": null,
   "metadata": {
    "collapsed": false
   },
   "outputs": [],
   "source": [
    "def reviews_to_sentences(input_path, output_path):\n",
    "    data = pd.read_csv(input_path).dropna()\n",
    "    reviews = [nltk.sent_tokenize(review) for review in data.text]\n",
    "    with open(output_path, 'a') as f:\n",
    "        for review in reviews:\n",
    "            for sentence in review:\n",
    "                f.write(sentence + '\\n')\n",
    "    return True"
   ]
  },
  {
   "cell_type": "code",
   "execution_count": null,
   "metadata": {
    "collapsed": false
   },
   "outputs": [],
   "source": [
    "reviews_to_sentences('../corpus/preprocessed/reviews_lc.csv',\n",
    "                     '../corpus/preprocessed/reviews_lc.txt')"
   ]
  },
  {
   "attachments": {},
   "cell_type": "markdown",
   "metadata": {
    "collapsed": false
   },
   "source": [
    "## Minha vida literaria"
   ]
  },
  {
   "cell_type": "code",
   "execution_count": null,
   "metadata": {
    "collapsed": false
   },
   "outputs": [],
   "source": [
    "path_mvl = '../corpus/minha_vida_literaria/'\n",
    "files_mvl = [file for file in os.listdir(path_mvl) if '.gitkeep' not in file]"
   ]
  },
  {
   "cell_type": "code",
   "execution_count": null,
   "metadata": {
    "collapsed": false
   },
   "outputs": [],
   "source": [
    "to_remove = [\n",
    "    'Ficha Técnica',\n",
    "    'Título:',\n",
    "    'Título original:',\n",
    "    'Autor:',\n",
    "    'Tradução:',\n",
    "    'Editora:',\n",
    "    'Número de Páginas:',\n",
    "    'Ano de Publicação:',\n",
    "    'Data de Publicação:',\n",
    "    'Skoob:',\n",
    "    'Compre:',\n",
    "    'Resenha:'\n",
    "]"
   ]
  },
  {
   "cell_type": "code",
   "execution_count": null,
   "metadata": {
    "collapsed": false
   },
   "outputs": [],
   "source": [
    "data_mvl = pd.DataFrame()\n",
    "for i, file in enumerate(files_mvl):\n",
    "    review = []\n",
    "    with open(os.path.join(path_mvl, file), 'r') as f:\n",
    "        curr_review = [line for line in f.read().split(\n",
    "            '\\n') if line and (line != '\\xa0')]\n",
    "        new_review = []\n",
    "        for line in curr_review:\n",
    "            if not [True for tr in to_remove if tr in line]:\n",
    "                new_review.append(line)\n",
    "        new_review = ''.join(new_review).replace('\\xa0', '')\n",
    "        curr_review = pd.DataFrame({\n",
    "            'text': new_review,\n",
    "            'review': [i+1],\n",
    "            'bookname': [file.replace('.txt', '')]\n",
    "        })\n",
    "        data_mvl = pd.concat([data_mvl, curr_review])\n",
    "data_mvl.review = data_mvl.review.astype(int)\n",
    "data_mvl.shape"
   ]
  },
  {
   "cell_type": "code",
   "execution_count": null,
   "metadata": {
    "collapsed": false
   },
   "outputs": [],
   "source": [
    "data_mvl.head()"
   ]
  },
  {
   "cell_type": "code",
   "execution_count": null,
   "metadata": {
    "collapsed": false
   },
   "outputs": [],
   "source": [
    "data_mvl.to_csv('../corpus/preprocessed/reviews_mvl.csv', index=False)"
   ]
  },
  {
   "cell_type": "code",
   "execution_count": null,
   "metadata": {
    "collapsed": false
   },
   "outputs": [],
   "source": [
    "reviews_to_sentences('../corpus/preprocessed/reviews_mvl.csv',\n",
    "                     '../corpus/preprocessed/reviews_mvl.txt')"
   ]
  },
  {
   "attachments": {},
   "cell_type": "markdown",
   "metadata": {},
   "source": [
    "# TV"
   ]
  },
  {
   "cell_type": "code",
   "execution_count": null,
   "metadata": {},
   "outputs": [],
   "source": [
    "import pandas as pd\n",
    "\n",
    "from nltk.tokenize import sent_tokenize"
   ]
  },
  {
   "cell_type": "code",
   "execution_count": null,
   "metadata": {},
   "outputs": [],
   "source": [
    "# lendo os dados da b2w\n",
    "data = pd.read_csv('../corpus/tv/b2w_reviews.csv', low_memory=False)"
   ]
  },
  {
   "cell_type": "code",
   "execution_count": null,
   "metadata": {},
   "outputs": [],
   "source": [
    "# colunas que serão utilizadas (categoria e review)\n",
    "cat_col = 'site_category_lv2'\n",
    "review_col = 'review_text'"
   ]
  },
  {
   "cell_type": "code",
   "execution_count": null,
   "metadata": {},
   "outputs": [],
   "source": [
    "# filtrando apenas reviews de tv\n",
    "b2w_reviews = data[data[cat_col] == 'TV'][review_col].values.tolist()\n",
    "len(b2w_reviews)"
   ]
  },
  {
   "cell_type": "code",
   "execution_count": null,
   "metadata": {},
   "outputs": [],
   "source": [
    "# lendo os dados do mercado livre\n",
    "with open('../corpus/tv/meli_tv_reviews.txt', 'r') as f:\n",
    "    meli = f.read().split('\\n')\n",
    "\n",
    "# removendo reviews com menos de 2 caracteres\n",
    "meli_reviews = [review for review in meli if len(review) > 1]\n",
    "len(meli_reviews), meli_reviews[:3]"
   ]
  },
  {
   "cell_type": "code",
   "execution_count": null,
   "metadata": {},
   "outputs": [],
   "source": [
    "# lendo os dados da amazon\n",
    "with open('../corpus/tv/amazon_reviews.txt', 'r') as f:\n",
    "    amazon = f.read().split('\\n')\n",
    "\n",
    "# removendo reviews com menos de 2 caracteres\n",
    "amazon_reviews = [review for review in amazon if len(review) > 1]\n",
    "len(amazon), amazon_reviews[:3]"
   ]
  },
  {
   "cell_type": "code",
   "execution_count": null,
   "metadata": {},
   "outputs": [],
   "source": [
    "# juntando todos os reviews\n",
    "reviews = b2w_reviews + meli_reviews + amazon_reviews\n",
    "len(reviews)"
   ]
  },
  {
   "cell_type": "code",
   "execution_count": null,
   "metadata": {},
   "outputs": [],
   "source": [
    "# removendo o que não for str\n",
    "reviews = [review for review in reviews if isinstance(review, str)]\n",
    "len(reviews)"
   ]
  },
  {
   "cell_type": "code",
   "execution_count": null,
   "metadata": {},
   "outputs": [],
   "source": [
    "with open('../corpus/preprocessed/tv_reviews.txt', 'w') as f:\n",
    "    f.write('\\n'.join(reviews))"
   ]
  },
  {
   "cell_type": "code",
   "execution_count": null,
   "metadata": {},
   "outputs": [],
   "source": [
    "# quantidade de tokens\n",
    "sentence_size = 0\n",
    "for sentence in reviews:\n",
    "    sentence_size += len(sentence.split())\n",
    "sentence_size"
   ]
  }
 ],
 "metadata": {
  "kernelspec": {
   "display_name": "Python 3",
   "language": "python",
   "name": "python3"
  },
  "language_info": {
   "codemirror_mode": {
    "name": "ipython",
    "version": 3
   },
   "file_extension": ".py",
   "mimetype": "text/x-python",
   "name": "python",
   "nbconvert_exporter": "python",
   "pygments_lexer": "ipython3",
   "version": "3.9.7"
  }
 },
 "nbformat": 4,
 "nbformat_minor": 0
}
