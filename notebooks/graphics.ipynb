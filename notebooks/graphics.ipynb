{
 "cells": [
  {
   "cell_type": "code",
   "execution_count": 1,
   "metadata": {},
   "outputs": [],
   "source": [
    "from collections import defaultdict\n",
    "\n",
    "import json\n",
    "import pandas as pd\n",
    "import matplotlib.pyplot as plt\n",
    "import seaborn as sns"
   ]
  },
  {
   "cell_type": "code",
   "execution_count": 2,
   "metadata": {},
   "outputs": [],
   "source": [
    "def read_json(path):\n",
    "    with open(path) as f:\n",
    "        data = json.load(f)\n",
    "    return data"
   ]
  },
  {
   "cell_type": "markdown",
   "metadata": {},
   "source": [
    "# Baseline"
   ]
  },
  {
   "cell_type": "code",
   "execution_count": 3,
   "metadata": {},
   "outputs": [],
   "source": [
    "tv = read_json('../results/00_baseline/tv.json')\n",
    "reli = read_json('../results/00_baseline/reli.json')"
   ]
  },
  {
   "cell_type": "code",
   "execution_count": 4,
   "metadata": {},
   "outputs": [],
   "source": [
    "results_dict = defaultdict(list)\n",
    "for name, results in zip(['tv', 'reli'], [tv, reli]):\n",
    "    for metric in ('precision', 'recall', 'f1'):\n",
    "        results_dict['name'].append(name.capitalize())\n",
    "        results_dict['metric'].append(results['results'][metric])\n",
    "        results_dict['metric_name'].append(metric.capitalize())"
   ]
  },
  {
   "cell_type": "code",
   "execution_count": 5,
   "metadata": {},
   "outputs": [
    {
     "data": {
      "text/html": [
       "<div>\n",
       "<style scoped>\n",
       "    .dataframe tbody tr th:only-of-type {\n",
       "        vertical-align: middle;\n",
       "    }\n",
       "\n",
       "    .dataframe tbody tr th {\n",
       "        vertical-align: top;\n",
       "    }\n",
       "\n",
       "    .dataframe thead th {\n",
       "        text-align: right;\n",
       "    }\n",
       "</style>\n",
       "<table border=\"1\" class=\"dataframe\">\n",
       "  <thead>\n",
       "    <tr style=\"text-align: right;\">\n",
       "      <th></th>\n",
       "      <th>name</th>\n",
       "      <th>metric</th>\n",
       "      <th>metric_name</th>\n",
       "    </tr>\n",
       "  </thead>\n",
       "  <tbody>\n",
       "    <tr>\n",
       "      <th>0</th>\n",
       "      <td>Tv</td>\n",
       "      <td>0.821739</td>\n",
       "      <td>Precision</td>\n",
       "    </tr>\n",
       "    <tr>\n",
       "      <th>1</th>\n",
       "      <td>Tv</td>\n",
       "      <td>0.825328</td>\n",
       "      <td>Recall</td>\n",
       "    </tr>\n",
       "    <tr>\n",
       "      <th>2</th>\n",
       "      <td>Tv</td>\n",
       "      <td>0.823529</td>\n",
       "      <td>F1</td>\n",
       "    </tr>\n",
       "    <tr>\n",
       "      <th>3</th>\n",
       "      <td>Reli</td>\n",
       "      <td>0.586736</td>\n",
       "      <td>Precision</td>\n",
       "    </tr>\n",
       "    <tr>\n",
       "      <th>4</th>\n",
       "      <td>Reli</td>\n",
       "      <td>0.625441</td>\n",
       "      <td>Recall</td>\n",
       "    </tr>\n",
       "    <tr>\n",
       "      <th>5</th>\n",
       "      <td>Reli</td>\n",
       "      <td>0.605047</td>\n",
       "      <td>F1</td>\n",
       "    </tr>\n",
       "  </tbody>\n",
       "</table>\n",
       "</div>"
      ],
      "text/plain": [
       "   name    metric metric_name\n",
       "0    Tv  0.821739   Precision\n",
       "1    Tv  0.825328      Recall\n",
       "2    Tv  0.823529          F1\n",
       "3  Reli  0.586736   Precision\n",
       "4  Reli  0.625441      Recall\n",
       "5  Reli  0.605047          F1"
      ]
     },
     "execution_count": 5,
     "metadata": {},
     "output_type": "execute_result"
    }
   ],
   "source": [
    "results_df = pd.DataFrame(results_dict)\n",
    "results_df"
   ]
  },
  {
   "cell_type": "code",
   "execution_count": 6,
   "metadata": {},
   "outputs": [
    {
     "data": {
      "image/png": "[encoded data removed]",
      "text/plain": [
       "<Figure size 720x432 with 1 Axes>"
      ]
     },
     "metadata": {
      "needs_background": "light"
     },
     "output_type": "display_data"
    }
   ],
   "source": [
    "plt.figure(figsize=(10, 6))\n",
    "sns.set_style('whitegrid')\n",
    "sns.barplot(\n",
    "    x='metric_name',\n",
    "    y='metric',\n",
    "    hue='name',\n",
    "    data=results_df,\n",
    "    palette='Set2'\n",
    ")\n",
    "\n",
    "# sns.despine(left=False)\n",
    "plt.legend(title='Conjunto')\n",
    "plt.xlabel('')\n",
    "plt.ylabel('Valor')\n",
    "plt.title('Métricas por modelo')\n",
    "plt.savefig('../images/baseline.png', bbox_inches='tight')\n",
    "plt.show()"
   ]
  },
  {
   "cell_type": "markdown",
   "metadata": {},
   "source": [
    "# BERTvisio and LiteraBERT"
   ]
  },
  {
   "cell_type": "code",
   "execution_count": null,
   "metadata": {},
   "outputs": [],
   "source": [
    "..."
   ]
  },
  {
   "cell_type": "markdown",
   "metadata": {},
   "source": [
    "# Double Embedding"
   ]
  },
  {
   "cell_type": "code",
   "execution_count": 7,
   "metadata": {},
   "outputs": [],
   "source": [
    "tv = read_json('../results/03_fine_tuning/tv/d_bert_visio.json')\n",
    "reli = read_json('../results/03_fine_tuning/reli/d_litera_bert.json')"
   ]
  },
  {
   "cell_type": "code",
   "execution_count": 8,
   "metadata": {},
   "outputs": [],
   "source": [
    "results_dict = defaultdict(list)\n",
    "for name, results in zip(['d-BERTvisio', 'd-LiteraBERT'], [tv, reli]):\n",
    "    for metric in ('precision', 'recall', 'f1'):\n",
    "        results_dict['name'].append(name)\n",
    "        results_dict['metric'].append(results['results'][metric])\n",
    "        results_dict['metric_name'].append(metric.capitalize())"
   ]
  },
  {
   "cell_type": "code",
   "execution_count": 9,
   "metadata": {},
   "outputs": [
    {
     "data": {
      "text/html": [
       "<div>\n",
       "<style scoped>\n",
       "    .dataframe tbody tr th:only-of-type {\n",
       "        vertical-align: middle;\n",
       "    }\n",
       "\n",
       "    .dataframe tbody tr th {\n",
       "        vertical-align: top;\n",
       "    }\n",
       "\n",
       "    .dataframe thead th {\n",
       "        text-align: right;\n",
       "    }\n",
       "</style>\n",
       "<table border=\"1\" class=\"dataframe\">\n",
       "  <thead>\n",
       "    <tr style=\"text-align: right;\">\n",
       "      <th></th>\n",
       "      <th>name</th>\n",
       "      <th>metric</th>\n",
       "      <th>metric_name</th>\n",
       "    </tr>\n",
       "  </thead>\n",
       "  <tbody>\n",
       "    <tr>\n",
       "      <th>0</th>\n",
       "      <td>d-BERTvisio</td>\n",
       "      <td>0.800000</td>\n",
       "      <td>Precision</td>\n",
       "    </tr>\n",
       "    <tr>\n",
       "      <th>1</th>\n",
       "      <td>d-BERTvisio</td>\n",
       "      <td>0.837607</td>\n",
       "      <td>Recall</td>\n",
       "    </tr>\n",
       "    <tr>\n",
       "      <th>2</th>\n",
       "      <td>d-BERTvisio</td>\n",
       "      <td>0.818372</td>\n",
       "      <td>F1</td>\n",
       "    </tr>\n",
       "    <tr>\n",
       "      <th>3</th>\n",
       "      <td>d-LiteraBERT</td>\n",
       "      <td>0.578261</td>\n",
       "      <td>Precision</td>\n",
       "    </tr>\n",
       "    <tr>\n",
       "      <th>4</th>\n",
       "      <td>d-LiteraBERT</td>\n",
       "      <td>0.490775</td>\n",
       "      <td>Recall</td>\n",
       "    </tr>\n",
       "    <tr>\n",
       "      <th>5</th>\n",
       "      <td>d-LiteraBERT</td>\n",
       "      <td>0.530938</td>\n",
       "      <td>F1</td>\n",
       "    </tr>\n",
       "  </tbody>\n",
       "</table>\n",
       "</div>"
      ],
      "text/plain": [
       "           name    metric metric_name\n",
       "0   d-BERTvisio  0.800000   Precision\n",
       "1   d-BERTvisio  0.837607      Recall\n",
       "2   d-BERTvisio  0.818372          F1\n",
       "3  d-LiteraBERT  0.578261   Precision\n",
       "4  d-LiteraBERT  0.490775      Recall\n",
       "5  d-LiteraBERT  0.530938          F1"
      ]
     },
     "execution_count": 9,
     "metadata": {},
     "output_type": "execute_result"
    }
   ],
   "source": [
    "results_df = pd.DataFrame(results_dict)\n",
    "results_df"
   ]
  },
  {
   "cell_type": "code",
   "execution_count": 10,
   "metadata": {},
   "outputs": [
    {
     "data": {
      "image/png": "[encoded data removed]",
      "text/plain": [
       "<Figure size 720x432 with 1 Axes>"
      ]
     },
     "metadata": {},
     "output_type": "display_data"
    }
   ],
   "source": [
    "plt.figure(figsize=(10, 6))\n",
    "sns.set_style('whitegrid')\n",
    "sns.barplot(\n",
    "    x='metric_name',\n",
    "    y='metric',\n",
    "    hue='name',\n",
    "    data=results_df,\n",
    "    palette='Set2'\n",
    ")\n",
    "\n",
    "# sns.despine(left=False)\n",
    "plt.legend(title='Modelo')\n",
    "plt.xlabel('')\n",
    "plt.ylabel('Valor')\n",
    "plt.title('Métricas por modelo')\n",
    "plt.savefig('../images/duplo_embedding_1.png', bbox_inches='tight')\n",
    "plt.show()"
   ]
  },
  {
   "cell_type": "code",
   "execution_count": 11,
   "metadata": {},
   "outputs": [],
   "source": [
    "tv = read_json('../results/03_fine_tuning/tv/d_bert_visio_ffn.json')\n",
    "reli = read_json('../results/03_fine_tuning/reli/d_litera_bert_ffn.json')"
   ]
  },
  {
   "cell_type": "code",
   "execution_count": 12,
   "metadata": {},
   "outputs": [],
   "source": [
    "results_dict = defaultdict(list)\n",
    "for name, results in zip(['d-BERTvisio-FFN', 'd-LiteraBERT-FFN'], [tv, reli]):\n",
    "    for metric in ('precision', 'recall', 'f1'):\n",
    "        results_dict['name'].append(name)\n",
    "        results_dict['metric'].append(results['results'][metric])\n",
    "        results_dict['metric_name'].append(metric.capitalize())"
   ]
  },
  {
   "cell_type": "code",
   "execution_count": 13,
   "metadata": {},
   "outputs": [
    {
     "data": {
      "text/html": [
       "<div>\n",
       "<style scoped>\n",
       "    .dataframe tbody tr th:only-of-type {\n",
       "        vertical-align: middle;\n",
       "    }\n",
       "\n",
       "    .dataframe tbody tr th {\n",
       "        vertical-align: top;\n",
       "    }\n",
       "\n",
       "    .dataframe thead th {\n",
       "        text-align: right;\n",
       "    }\n",
       "</style>\n",
       "<table border=\"1\" class=\"dataframe\">\n",
       "  <thead>\n",
       "    <tr style=\"text-align: right;\">\n",
       "      <th></th>\n",
       "      <th>name</th>\n",
       "      <th>metric</th>\n",
       "      <th>metric_name</th>\n",
       "    </tr>\n",
       "  </thead>\n",
       "  <tbody>\n",
       "    <tr>\n",
       "      <th>0</th>\n",
       "      <td>d-BERTvisio-FFN</td>\n",
       "      <td>0.800000</td>\n",
       "      <td>Precision</td>\n",
       "    </tr>\n",
       "    <tr>\n",
       "      <th>1</th>\n",
       "      <td>d-BERTvisio-FFN</td>\n",
       "      <td>0.871795</td>\n",
       "      <td>Recall</td>\n",
       "    </tr>\n",
       "    <tr>\n",
       "      <th>2</th>\n",
       "      <td>d-BERTvisio-FFN</td>\n",
       "      <td>0.834356</td>\n",
       "      <td>F1</td>\n",
       "    </tr>\n",
       "    <tr>\n",
       "      <th>3</th>\n",
       "      <td>d-LiteraBERT-FFN</td>\n",
       "      <td>0.640000</td>\n",
       "      <td>Precision</td>\n",
       "    </tr>\n",
       "    <tr>\n",
       "      <th>4</th>\n",
       "      <td>d-LiteraBERT-FFN</td>\n",
       "      <td>0.472325</td>\n",
       "      <td>Recall</td>\n",
       "    </tr>\n",
       "    <tr>\n",
       "      <th>5</th>\n",
       "      <td>d-LiteraBERT-FFN</td>\n",
       "      <td>0.543524</td>\n",
       "      <td>F1</td>\n",
       "    </tr>\n",
       "  </tbody>\n",
       "</table>\n",
       "</div>"
      ],
      "text/plain": [
       "               name    metric metric_name\n",
       "0   d-BERTvisio-FFN  0.800000   Precision\n",
       "1   d-BERTvisio-FFN  0.871795      Recall\n",
       "2   d-BERTvisio-FFN  0.834356          F1\n",
       "3  d-LiteraBERT-FFN  0.640000   Precision\n",
       "4  d-LiteraBERT-FFN  0.472325      Recall\n",
       "5  d-LiteraBERT-FFN  0.543524          F1"
      ]
     },
     "execution_count": 13,
     "metadata": {},
     "output_type": "execute_result"
    }
   ],
   "source": [
    "results_df = pd.DataFrame(results_dict)\n",
    "results_df"
   ]
  },
  {
   "cell_type": "code",
   "execution_count": 14,
   "metadata": {},
   "outputs": [
    {
     "data": {
      "image/png": "[encoded data removed]",
      "text/plain": [
       "<Figure size 720x432 with 1 Axes>"
      ]
     },
     "metadata": {},
     "output_type": "display_data"
    }
   ],
   "source": [
    "plt.figure(figsize=(10, 6))\n",
    "sns.set_style('whitegrid')\n",
    "sns.barplot(\n",
    "    x='metric_name',\n",
    "    y='metric',\n",
    "    hue='name',\n",
    "    data=results_df,\n",
    "    palette='Set2'\n",
    ")\n",
    "\n",
    "# sns.despine(left=False)\n",
    "plt.legend(title='Conjunto')\n",
    "plt.xlabel('')\n",
    "plt.ylabel('Valor')\n",
    "plt.title('Métricas por modelo')\n",
    "plt.savefig('../images/duplo_embedding_2.png', bbox_inches='tight')\n",
    "plt.show()"
   ]
  },
  {
   "cell_type": "code",
   "execution_count": null,
   "metadata": {},
   "outputs": [],
   "source": []
  }
 ],
 "metadata": {
  "kernelspec": {
   "display_name": "base",
   "language": "python",
   "name": "python3"
  },
  "language_info": {
   "codemirror_mode": {
    "name": "ipython",
    "version": 3
   },
   "file_extension": ".py",
   "mimetype": "text/x-python",
   "name": "python",
   "nbconvert_exporter": "python",
   "pygments_lexer": "ipython3",
   "version": "3.9.7"
  },
  "orig_nbformat": 4
 },
 "nbformat": 4,
 "nbformat_minor": 2
}
