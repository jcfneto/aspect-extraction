{
 "cells": [
  {
   "cell_type": "code",
   "execution_count": 2,
   "metadata": {},
   "outputs": [],
   "source": [
    "from collections import defaultdict\n",
    "\n",
    "import json\n",
    "import pandas as pd\n",
    "import matplotlib.pyplot as plt\n",
    "import seaborn as sns"
   ]
  },
  {
   "cell_type": "code",
   "execution_count": 3,
   "metadata": {},
   "outputs": [],
   "source": [
    "def read_json(path):\n",
    "    with open(path) as f:\n",
    "        data = json.load(f)\n",
    "    return data"
   ]
  },
  {
   "cell_type": "markdown",
   "metadata": {},
   "source": [
    "# Baseline"
   ]
  },
  {
   "cell_type": "code",
   "execution_count": 4,
   "metadata": {},
   "outputs": [],
   "source": [
    "tv = read_json('../results/00_baseline/tv.json')\n",
    "reli = read_json('../results/00_baseline/reli.json')"
   ]
  },
  {
   "cell_type": "code",
   "execution_count": 5,
   "metadata": {},
   "outputs": [],
   "source": [
    "results_dict = defaultdict(list)\n",
    "for name, results in zip(['tv', 'reli'], [tv, reli]):\n",
    "    for metric in ('precision', 'recall', 'f1'):\n",
    "        results_dict['name'].append(name.capitalize())\n",
    "        results_dict['metric'].append(results['results'][metric])\n",
    "        results_dict['metric_name'].append(metric.capitalize())"
   ]
  },
  {
   "cell_type": "code",
   "execution_count": 6,
   "metadata": {},
   "outputs": [
    {
     "data": {
      "text/html": [
       "<div>\n",
       "<style scoped>\n",
       "    .dataframe tbody tr th:only-of-type {\n",
       "        vertical-align: middle;\n",
       "    }\n",
       "\n",
       "    .dataframe tbody tr th {\n",
       "        vertical-align: top;\n",
       "    }\n",
       "\n",
       "    .dataframe thead th {\n",
       "        text-align: right;\n",
       "    }\n",
       "</style>\n",
       "<table border=\"1\" class=\"dataframe\">\n",
       "  <thead>\n",
       "    <tr style=\"text-align: right;\">\n",
       "      <th></th>\n",
       "      <th>name</th>\n",
       "      <th>metric</th>\n",
       "      <th>metric_name</th>\n",
       "    </tr>\n",
       "  </thead>\n",
       "  <tbody>\n",
       "    <tr>\n",
       "      <th>0</th>\n",
       "      <td>Tv</td>\n",
       "      <td>0.821739</td>\n",
       "      <td>Precision</td>\n",
       "    </tr>\n",
       "    <tr>\n",
       "      <th>1</th>\n",
       "      <td>Tv</td>\n",
       "      <td>0.825328</td>\n",
       "      <td>Recall</td>\n",
       "    </tr>\n",
       "    <tr>\n",
       "      <th>2</th>\n",
       "      <td>Tv</td>\n",
       "      <td>0.823529</td>\n",
       "      <td>F1</td>\n",
       "    </tr>\n",
       "    <tr>\n",
       "      <th>3</th>\n",
       "      <td>Reli</td>\n",
       "      <td>0.586736</td>\n",
       "      <td>Precision</td>\n",
       "    </tr>\n",
       "    <tr>\n",
       "      <th>4</th>\n",
       "      <td>Reli</td>\n",
       "      <td>0.625441</td>\n",
       "      <td>Recall</td>\n",
       "    </tr>\n",
       "    <tr>\n",
       "      <th>5</th>\n",
       "      <td>Reli</td>\n",
       "      <td>0.605047</td>\n",
       "      <td>F1</td>\n",
       "    </tr>\n",
       "  </tbody>\n",
       "</table>\n",
       "</div>"
      ],
      "text/plain": [
       "   name    metric metric_name\n",
       "0    Tv  0.821739   Precision\n",
       "1    Tv  0.825328      Recall\n",
       "2    Tv  0.823529          F1\n",
       "3  Reli  0.586736   Precision\n",
       "4  Reli  0.625441      Recall\n",
       "5  Reli  0.605047          F1"
      ]
     },
     "execution_count": 6,
     "metadata": {},
     "output_type": "execute_result"
    }
   ],
   "source": [
    "results_df = pd.DataFrame(results_dict)\n",
    "results_df"
   ]
  },
  {
   "cell_type": "code",
   "execution_count": 7,
   "metadata": {},
   "outputs": [
    {
     "data": {
      "image/png": "[encoded data removed]",
      "text/plain": [
       "<Figure size 720x432 with 1 Axes>"
      ]
     },
     "metadata": {
      "needs_background": "light"
     },
     "output_type": "display_data"
    }
   ],
   "source": [
    "plt.figure(figsize=(10, 6))\n",
    "sns.set_style('whitegrid')\n",
    "sns.barplot(\n",
    "    x='metric_name',\n",
    "    y='metric',\n",
    "    hue='name',\n",
    "    data=results_df,\n",
    "    palette='Set2'\n",
    ")\n",
    "\n",
    "# sns.despine(left=False)\n",
    "plt.legend(title='Conjunto')\n",
    "plt.xlabel('')\n",
    "plt.ylabel('Valor')\n",
    "plt.title('Métricas por Modelo - Baseline')\n",
    "plt.savefig('../images/baseline.png', bbox_inches='tight')\n",
    "plt.show()"
   ]
  },
  {
   "cell_type": "markdown",
   "metadata": {},
   "source": [
    "# BERTvisio and LiteraBERT"
   ]
  },
  {
   "cell_type": "code",
   "execution_count": 8,
   "metadata": {},
   "outputs": [],
   "source": [
    "tv = read_json('../results/03_fine_tuning/tv/bert_visio.json')\n",
    "reli = read_json('../results/03_fine_tuning/reli/litera_bert.json')"
   ]
  },
  {
   "cell_type": "code",
   "execution_count": 9,
   "metadata": {},
   "outputs": [],
   "source": [
    "results_dict = defaultdict(list)\n",
    "for name, results in zip(['BERTvisio', 'LiteraBERT'], [tv, reli]):\n",
    "    for metric in ('precision', 'recall', 'f1'):\n",
    "        results_dict['name'].append(name)\n",
    "        results_dict['metric'].append(results['results'][metric])\n",
    "        results_dict['metric_name'].append(metric.capitalize())"
   ]
  },
  {
   "cell_type": "code",
   "execution_count": 10,
   "metadata": {},
   "outputs": [
    {
     "data": {
      "text/html": [
       "<div>\n",
       "<style scoped>\n",
       "    .dataframe tbody tr th:only-of-type {\n",
       "        vertical-align: middle;\n",
       "    }\n",
       "\n",
       "    .dataframe tbody tr th {\n",
       "        vertical-align: top;\n",
       "    }\n",
       "\n",
       "    .dataframe thead th {\n",
       "        text-align: right;\n",
       "    }\n",
       "</style>\n",
       "<table border=\"1\" class=\"dataframe\">\n",
       "  <thead>\n",
       "    <tr style=\"text-align: right;\">\n",
       "      <th></th>\n",
       "      <th>name</th>\n",
       "      <th>metric</th>\n",
       "      <th>metric_name</th>\n",
       "    </tr>\n",
       "  </thead>\n",
       "  <tbody>\n",
       "    <tr>\n",
       "      <th>0</th>\n",
       "      <td>BERTvisio</td>\n",
       "      <td>0.725410</td>\n",
       "      <td>Precision</td>\n",
       "    </tr>\n",
       "    <tr>\n",
       "      <th>1</th>\n",
       "      <td>BERTvisio</td>\n",
       "      <td>0.772926</td>\n",
       "      <td>Recall</td>\n",
       "    </tr>\n",
       "    <tr>\n",
       "      <th>2</th>\n",
       "      <td>BERTvisio</td>\n",
       "      <td>0.748414</td>\n",
       "      <td>F1</td>\n",
       "    </tr>\n",
       "    <tr>\n",
       "      <th>3</th>\n",
       "      <td>LiteraBERT</td>\n",
       "      <td>0.566802</td>\n",
       "      <td>Precision</td>\n",
       "    </tr>\n",
       "    <tr>\n",
       "      <th>4</th>\n",
       "      <td>LiteraBERT</td>\n",
       "      <td>0.516605</td>\n",
       "      <td>Recall</td>\n",
       "    </tr>\n",
       "    <tr>\n",
       "      <th>5</th>\n",
       "      <td>LiteraBERT</td>\n",
       "      <td>0.540541</td>\n",
       "      <td>F1</td>\n",
       "    </tr>\n",
       "  </tbody>\n",
       "</table>\n",
       "</div>"
      ],
      "text/plain": [
       "         name    metric metric_name\n",
       "0   BERTvisio  0.725410   Precision\n",
       "1   BERTvisio  0.772926      Recall\n",
       "2   BERTvisio  0.748414          F1\n",
       "3  LiteraBERT  0.566802   Precision\n",
       "4  LiteraBERT  0.516605      Recall\n",
       "5  LiteraBERT  0.540541          F1"
      ]
     },
     "execution_count": 10,
     "metadata": {},
     "output_type": "execute_result"
    }
   ],
   "source": [
    "results_df = pd.DataFrame(results_dict)\n",
    "results_df"
   ]
  },
  {
   "cell_type": "code",
   "execution_count": 11,
   "metadata": {},
   "outputs": [
    {
     "data": {
      "image/png": "[encoded data removed]",
      "text/plain": [
       "<Figure size 720x432 with 1 Axes>"
      ]
     },
     "metadata": {},
     "output_type": "display_data"
    }
   ],
   "source": [
    "plt.figure(figsize=(10, 6))\n",
    "sns.set_style('whitegrid')\n",
    "sns.barplot(\n",
    "    x='metric_name',\n",
    "    y='metric',\n",
    "    hue='name',\n",
    "    data=results_df,\n",
    "    palette='Set2'\n",
    ")\n",
    "\n",
    "# sns.despine(left=False)\n",
    "plt.legend(title='Modelo', loc='lower right')\n",
    "plt.xlabel('')\n",
    "plt.ylabel('Valor')\n",
    "plt.title('Métricas por Modelo - Domínio Específico')\n",
    "plt.savefig('../images/bert_specific_domain.png', bbox_inches='tight')\n",
    "plt.show()"
   ]
  },
  {
   "cell_type": "markdown",
   "metadata": {},
   "source": [
    "# Double Embedding"
   ]
  },
  {
   "cell_type": "code",
   "execution_count": 12,
   "metadata": {},
   "outputs": [],
   "source": [
    "tv = read_json('../results/03_fine_tuning/tv/d_bert_visio.json')\n",
    "reli = read_json('../results/03_fine_tuning/reli/d_litera_bert.json')"
   ]
  },
  {
   "cell_type": "code",
   "execution_count": 13,
   "metadata": {},
   "outputs": [],
   "source": [
    "results_dict = defaultdict(list)\n",
    "for name, results in zip(['d-BERTvisio', 'd-LiteraBERT'], [tv, reli]):\n",
    "    for metric in ('precision', 'recall', 'f1'):\n",
    "        results_dict['name'].append(name)\n",
    "        results_dict['metric'].append(results['results'][metric])\n",
    "        results_dict['metric_name'].append(metric.capitalize())"
   ]
  },
  {
   "cell_type": "code",
   "execution_count": 14,
   "metadata": {},
   "outputs": [
    {
     "data": {
      "text/html": [
       "<div>\n",
       "<style scoped>\n",
       "    .dataframe tbody tr th:only-of-type {\n",
       "        vertical-align: middle;\n",
       "    }\n",
       "\n",
       "    .dataframe tbody tr th {\n",
       "        vertical-align: top;\n",
       "    }\n",
       "\n",
       "    .dataframe thead th {\n",
       "        text-align: right;\n",
       "    }\n",
       "</style>\n",
       "<table border=\"1\" class=\"dataframe\">\n",
       "  <thead>\n",
       "    <tr style=\"text-align: right;\">\n",
       "      <th></th>\n",
       "      <th>name</th>\n",
       "      <th>metric</th>\n",
       "      <th>metric_name</th>\n",
       "    </tr>\n",
       "  </thead>\n",
       "  <tbody>\n",
       "    <tr>\n",
       "      <th>0</th>\n",
       "      <td>d-BERTvisio</td>\n",
       "      <td>0.800000</td>\n",
       "      <td>Precision</td>\n",
       "    </tr>\n",
       "    <tr>\n",
       "      <th>1</th>\n",
       "      <td>d-BERTvisio</td>\n",
       "      <td>0.837607</td>\n",
       "      <td>Recall</td>\n",
       "    </tr>\n",
       "    <tr>\n",
       "      <th>2</th>\n",
       "      <td>d-BERTvisio</td>\n",
       "      <td>0.818372</td>\n",
       "      <td>F1</td>\n",
       "    </tr>\n",
       "    <tr>\n",
       "      <th>3</th>\n",
       "      <td>d-LiteraBERT</td>\n",
       "      <td>0.578261</td>\n",
       "      <td>Precision</td>\n",
       "    </tr>\n",
       "    <tr>\n",
       "      <th>4</th>\n",
       "      <td>d-LiteraBERT</td>\n",
       "      <td>0.490775</td>\n",
       "      <td>Recall</td>\n",
       "    </tr>\n",
       "    <tr>\n",
       "      <th>5</th>\n",
       "      <td>d-LiteraBERT</td>\n",
       "      <td>0.530938</td>\n",
       "      <td>F1</td>\n",
       "    </tr>\n",
       "  </tbody>\n",
       "</table>\n",
       "</div>"
      ],
      "text/plain": [
       "           name    metric metric_name\n",
       "0   d-BERTvisio  0.800000   Precision\n",
       "1   d-BERTvisio  0.837607      Recall\n",
       "2   d-BERTvisio  0.818372          F1\n",
       "3  d-LiteraBERT  0.578261   Precision\n",
       "4  d-LiteraBERT  0.490775      Recall\n",
       "5  d-LiteraBERT  0.530938          F1"
      ]
     },
     "execution_count": 14,
     "metadata": {},
     "output_type": "execute_result"
    }
   ],
   "source": [
    "results_df = pd.DataFrame(results_dict)\n",
    "results_df"
   ]
  },
  {
   "cell_type": "code",
   "execution_count": 15,
   "metadata": {},
   "outputs": [
    {
     "data": {
      "image/png": "[encoded data removed]",
      "text/plain": [
       "<Figure size 720x432 with 1 Axes>"
      ]
     },
     "metadata": {},
     "output_type": "display_data"
    }
   ],
   "source": [
    "plt.figure(figsize=(10, 6))\n",
    "sns.set_style('whitegrid')\n",
    "sns.barplot(\n",
    "    x='metric_name',\n",
    "    y='metric',\n",
    "    hue='name',\n",
    "    data=results_df,\n",
    "    palette='Set2'\n",
    ")\n",
    "\n",
    "# sns.despine(left=False)\n",
    "plt.legend(title='Modelo', loc='lower right')\n",
    "plt.xlabel('')\n",
    "plt.ylabel('Valor')\n",
    "plt.title('Métricas por Modelo - Duplo Embedding')\n",
    "plt.savefig('../images/duplo_embedding_1.png', bbox_inches='tight')\n",
    "plt.show()"
   ]
  },
  {
   "cell_type": "code",
   "execution_count": 16,
   "metadata": {},
   "outputs": [],
   "source": [
    "tv = read_json('../results/03_fine_tuning/tv/d_bert_visio_ffn.json')\n",
    "reli = read_json('../results/03_fine_tuning/reli/d_litera_bert_ffn.json')"
   ]
  },
  {
   "cell_type": "code",
   "execution_count": 17,
   "metadata": {},
   "outputs": [],
   "source": [
    "results_dict = defaultdict(list)\n",
    "for name, results in zip(['d-BERTvisio-FFN', 'd-LiteraBERT-FFN'], [tv, reli]):\n",
    "    for metric in ('precision', 'recall', 'f1'):\n",
    "        results_dict['name'].append(name)\n",
    "        results_dict['metric'].append(results['results'][metric])\n",
    "        results_dict['metric_name'].append(metric.capitalize())"
   ]
  },
  {
   "cell_type": "code",
   "execution_count": 18,
   "metadata": {},
   "outputs": [
    {
     "data": {
      "text/html": [
       "<div>\n",
       "<style scoped>\n",
       "    .dataframe tbody tr th:only-of-type {\n",
       "        vertical-align: middle;\n",
       "    }\n",
       "\n",
       "    .dataframe tbody tr th {\n",
       "        vertical-align: top;\n",
       "    }\n",
       "\n",
       "    .dataframe thead th {\n",
       "        text-align: right;\n",
       "    }\n",
       "</style>\n",
       "<table border=\"1\" class=\"dataframe\">\n",
       "  <thead>\n",
       "    <tr style=\"text-align: right;\">\n",
       "      <th></th>\n",
       "      <th>name</th>\n",
       "      <th>metric</th>\n",
       "      <th>metric_name</th>\n",
       "    </tr>\n",
       "  </thead>\n",
       "  <tbody>\n",
       "    <tr>\n",
       "      <th>0</th>\n",
       "      <td>d-BERTvisio-FFN</td>\n",
       "      <td>0.800000</td>\n",
       "      <td>Precision</td>\n",
       "    </tr>\n",
       "    <tr>\n",
       "      <th>1</th>\n",
       "      <td>d-BERTvisio-FFN</td>\n",
       "      <td>0.871795</td>\n",
       "      <td>Recall</td>\n",
       "    </tr>\n",
       "    <tr>\n",
       "      <th>2</th>\n",
       "      <td>d-BERTvisio-FFN</td>\n",
       "      <td>0.834356</td>\n",
       "      <td>F1</td>\n",
       "    </tr>\n",
       "    <tr>\n",
       "      <th>3</th>\n",
       "      <td>d-LiteraBERT-FFN</td>\n",
       "      <td>0.640000</td>\n",
       "      <td>Precision</td>\n",
       "    </tr>\n",
       "    <tr>\n",
       "      <th>4</th>\n",
       "      <td>d-LiteraBERT-FFN</td>\n",
       "      <td>0.472325</td>\n",
       "      <td>Recall</td>\n",
       "    </tr>\n",
       "    <tr>\n",
       "      <th>5</th>\n",
       "      <td>d-LiteraBERT-FFN</td>\n",
       "      <td>0.543524</td>\n",
       "      <td>F1</td>\n",
       "    </tr>\n",
       "  </tbody>\n",
       "</table>\n",
       "</div>"
      ],
      "text/plain": [
       "               name    metric metric_name\n",
       "0   d-BERTvisio-FFN  0.800000   Precision\n",
       "1   d-BERTvisio-FFN  0.871795      Recall\n",
       "2   d-BERTvisio-FFN  0.834356          F1\n",
       "3  d-LiteraBERT-FFN  0.640000   Precision\n",
       "4  d-LiteraBERT-FFN  0.472325      Recall\n",
       "5  d-LiteraBERT-FFN  0.543524          F1"
      ]
     },
     "execution_count": 18,
     "metadata": {},
     "output_type": "execute_result"
    }
   ],
   "source": [
    "results_df = pd.DataFrame(results_dict)\n",
    "results_df"
   ]
  },
  {
   "cell_type": "code",
   "execution_count": 19,
   "metadata": {},
   "outputs": [
    {
     "data": {
      "image/png": "[encoded data removed]",
      "text/plain": [
       "<Figure size 720x432 with 1 Axes>"
      ]
     },
     "metadata": {},
     "output_type": "display_data"
    }
   ],
   "source": [
    "plt.figure(figsize=(10, 6))\n",
    "sns.set_style('whitegrid')\n",
    "sns.barplot(\n",
    "    x='metric_name',\n",
    "    y='metric',\n",
    "    hue='name',\n",
    "    data=results_df,\n",
    "    palette='Set2'\n",
    ")\n",
    "\n",
    "# sns.despine(left=False)\n",
    "plt.legend(title='Modelo', loc='lower right')\n",
    "plt.xlabel('')\n",
    "plt.ylabel('Valor')\n",
    "plt.title('Métricas por Modelo - Duplo Embedding + FFN')\n",
    "plt.savefig('../images/duplo_embedding_2.png', bbox_inches='tight')\n",
    "plt.show()"
   ]
  },
  {
   "cell_type": "markdown",
   "metadata": {},
   "source": [
    "# GPT"
   ]
  },
  {
   "cell_type": "code",
   "execution_count": 20,
   "metadata": {},
   "outputs": [],
   "source": [
    "tv = read_json('../results/03_fine_tuning/tv/gpt.json')"
   ]
  },
  {
   "cell_type": "code",
   "execution_count": 21,
   "metadata": {},
   "outputs": [],
   "source": [
    "results_dict = defaultdict(list)\n",
    "for name, results in tv.items():\n",
    "    if name == 'hyperparams':\n",
    "        continue\n",
    "    for metric in ('precision', 'recall', 'f1'):\n",
    "        results_dict['name'].append(name)\n",
    "        results_dict['metric'].append(results[metric])\n",
    "        results_dict['metric_name'].append(metric.capitalize())"
   ]
  },
  {
   "cell_type": "code",
   "execution_count": 22,
   "metadata": {},
   "outputs": [
    {
     "data": {
      "text/html": [
       "<div>\n",
       "<style scoped>\n",
       "    .dataframe tbody tr th:only-of-type {\n",
       "        vertical-align: middle;\n",
       "    }\n",
       "\n",
       "    .dataframe tbody tr th {\n",
       "        vertical-align: top;\n",
       "    }\n",
       "\n",
       "    .dataframe thead th {\n",
       "        text-align: right;\n",
       "    }\n",
       "</style>\n",
       "<table border=\"1\" class=\"dataframe\">\n",
       "  <thead>\n",
       "    <tr style=\"text-align: right;\">\n",
       "      <th></th>\n",
       "      <th>name</th>\n",
       "      <th>metric</th>\n",
       "      <th>metric_name</th>\n",
       "    </tr>\n",
       "  </thead>\n",
       "  <tbody>\n",
       "    <tr>\n",
       "      <th>0</th>\n",
       "      <td>ada</td>\n",
       "      <td>0.7627</td>\n",
       "      <td>Precision</td>\n",
       "    </tr>\n",
       "    <tr>\n",
       "      <th>1</th>\n",
       "      <td>ada</td>\n",
       "      <td>0.8000</td>\n",
       "      <td>Recall</td>\n",
       "    </tr>\n",
       "    <tr>\n",
       "      <th>2</th>\n",
       "      <td>ada</td>\n",
       "      <td>0.7809</td>\n",
       "      <td>F1</td>\n",
       "    </tr>\n",
       "    <tr>\n",
       "      <th>3</th>\n",
       "      <td>babbage</td>\n",
       "      <td>0.7787</td>\n",
       "      <td>Precision</td>\n",
       "    </tr>\n",
       "    <tr>\n",
       "      <th>4</th>\n",
       "      <td>babbage</td>\n",
       "      <td>0.8133</td>\n",
       "      <td>Recall</td>\n",
       "    </tr>\n",
       "    <tr>\n",
       "      <th>5</th>\n",
       "      <td>babbage</td>\n",
       "      <td>0.7957</td>\n",
       "      <td>F1</td>\n",
       "    </tr>\n",
       "    <tr>\n",
       "      <th>6</th>\n",
       "      <td>curie</td>\n",
       "      <td>0.7530</td>\n",
       "      <td>Precision</td>\n",
       "    </tr>\n",
       "    <tr>\n",
       "      <th>7</th>\n",
       "      <td>curie</td>\n",
       "      <td>0.8400</td>\n",
       "      <td>Recall</td>\n",
       "    </tr>\n",
       "    <tr>\n",
       "      <th>8</th>\n",
       "      <td>curie</td>\n",
       "      <td>0.7941</td>\n",
       "      <td>F1</td>\n",
       "    </tr>\n",
       "  </tbody>\n",
       "</table>\n",
       "</div>"
      ],
      "text/plain": [
       "      name  metric metric_name\n",
       "0      ada  0.7627   Precision\n",
       "1      ada  0.8000      Recall\n",
       "2      ada  0.7809          F1\n",
       "3  babbage  0.7787   Precision\n",
       "4  babbage  0.8133      Recall\n",
       "5  babbage  0.7957          F1\n",
       "6    curie  0.7530   Precision\n",
       "7    curie  0.8400      Recall\n",
       "8    curie  0.7941          F1"
      ]
     },
     "execution_count": 22,
     "metadata": {},
     "output_type": "execute_result"
    }
   ],
   "source": [
    "results_df = pd.DataFrame(results_dict)\n",
    "results_df"
   ]
  },
  {
   "cell_type": "code",
   "execution_count": 23,
   "metadata": {},
   "outputs": [
    {
     "data": {
      "image/png": "[encoded data removed]",
      "text/plain": [
       "<Figure size 720x432 with 1 Axes>"
      ]
     },
     "metadata": {},
     "output_type": "display_data"
    }
   ],
   "source": [
    "plt.figure(figsize=(10, 6))\n",
    "sns.set_style('whitegrid')\n",
    "sns.barplot(\n",
    "    x='metric_name',\n",
    "    y='metric',\n",
    "    hue='name',\n",
    "    data=results_df,\n",
    "    palette='Set2'\n",
    ")\n",
    "\n",
    "# sns.despine(left=False)\n",
    "plt.legend(title='Modelo', loc='lower right')\n",
    "plt.xlabel('')\n",
    "plt.ylabel('Valor')\n",
    "plt.title('Métricas por Modelo - GPT')\n",
    "plt.savefig('../images/gpt.png', bbox_inches='tight')\n",
    "plt.show()"
   ]
  },
  {
   "cell_type": "markdown",
   "metadata": {},
   "source": [
    "# BERTimbau com LoRa"
   ]
  },
  {
   "cell_type": "code",
   "execution_count": 27,
   "metadata": {},
   "outputs": [],
   "source": [
    "tv = read_json('../results/03_fine_tuning/tv/lora_baseline.json')\n",
    "reli = read_json('../results/03_fine_tuning/reli/lora_baseline.json')"
   ]
  },
  {
   "cell_type": "code",
   "execution_count": 28,
   "metadata": {},
   "outputs": [],
   "source": [
    "results_dict = defaultdict(list)\n",
    "for name, results in zip(['TV', 'ReLi'], [tv, reli]):\n",
    "    for metric in ('precision', 'recall', 'f1'):\n",
    "        results_dict['name'].append(name)\n",
    "        results_dict['metric'].append(results['results'][metric])\n",
    "        results_dict['metric_name'].append(metric.capitalize())"
   ]
  },
  {
   "cell_type": "code",
   "execution_count": 29,
   "metadata": {},
   "outputs": [
    {
     "data": {
      "text/html": [
       "<div>\n",
       "<style scoped>\n",
       "    .dataframe tbody tr th:only-of-type {\n",
       "        vertical-align: middle;\n",
       "    }\n",
       "\n",
       "    .dataframe tbody tr th {\n",
       "        vertical-align: top;\n",
       "    }\n",
       "\n",
       "    .dataframe thead th {\n",
       "        text-align: right;\n",
       "    }\n",
       "</style>\n",
       "<table border=\"1\" class=\"dataframe\">\n",
       "  <thead>\n",
       "    <tr style=\"text-align: right;\">\n",
       "      <th></th>\n",
       "      <th>name</th>\n",
       "      <th>metric</th>\n",
       "      <th>metric_name</th>\n",
       "    </tr>\n",
       "  </thead>\n",
       "  <tbody>\n",
       "    <tr>\n",
       "      <th>0</th>\n",
       "      <td>TV</td>\n",
       "      <td>0.834025</td>\n",
       "      <td>Precision</td>\n",
       "    </tr>\n",
       "    <tr>\n",
       "      <th>1</th>\n",
       "      <td>TV</td>\n",
       "      <td>0.858974</td>\n",
       "      <td>Recall</td>\n",
       "    </tr>\n",
       "    <tr>\n",
       "      <th>2</th>\n",
       "      <td>TV</td>\n",
       "      <td>0.846316</td>\n",
       "      <td>F1</td>\n",
       "    </tr>\n",
       "    <tr>\n",
       "      <th>3</th>\n",
       "      <td>ReLi</td>\n",
       "      <td>0.628253</td>\n",
       "      <td>Precision</td>\n",
       "    </tr>\n",
       "    <tr>\n",
       "      <th>4</th>\n",
       "      <td>ReLi</td>\n",
       "      <td>0.601423</td>\n",
       "      <td>Recall</td>\n",
       "    </tr>\n",
       "    <tr>\n",
       "      <th>5</th>\n",
       "      <td>ReLi</td>\n",
       "      <td>0.614545</td>\n",
       "      <td>F1</td>\n",
       "    </tr>\n",
       "  </tbody>\n",
       "</table>\n",
       "</div>"
      ],
      "text/plain": [
       "   name    metric metric_name\n",
       "0    TV  0.834025   Precision\n",
       "1    TV  0.858974      Recall\n",
       "2    TV  0.846316          F1\n",
       "3  ReLi  0.628253   Precision\n",
       "4  ReLi  0.601423      Recall\n",
       "5  ReLi  0.614545          F1"
      ]
     },
     "execution_count": 29,
     "metadata": {},
     "output_type": "execute_result"
    }
   ],
   "source": [
    "results_df = pd.DataFrame(results_dict)\n",
    "results_df"
   ]
  },
  {
   "cell_type": "code",
   "execution_count": 32,
   "metadata": {},
   "outputs": [
    {
     "data": {
      "image/png": "[encoded data removed]",
      "text/plain": [
       "<Figure size 720x432 with 1 Axes>"
      ]
     },
     "metadata": {},
     "output_type": "display_data"
    }
   ],
   "source": [
    "plt.figure(figsize=(10, 6))\n",
    "sns.set_style('whitegrid')\n",
    "sns.barplot(\n",
    "    x='metric_name',\n",
    "    y='metric',\n",
    "    hue='name',\n",
    "    data=results_df,\n",
    "    palette='Set2'\n",
    ")\n",
    "\n",
    "# sns.despine(left=False)\n",
    "plt.legend(title='Conjunto')\n",
    "plt.xlabel('')\n",
    "plt.ylabel('Valor')\n",
    "plt.title('Métricas por Conjunto - Domínio Geral com LoRa')\n",
    "plt.savefig('../images/baseline_lora.png', bbox_inches='tight')\n",
    "plt.show()"
   ]
  },
  {
   "cell_type": "markdown",
   "metadata": {},
   "source": [
    "# openCabrita com QLoRa"
   ]
  },
  {
   "cell_type": "code",
   "execution_count": 8,
   "metadata": {},
   "outputs": [],
   "source": [
    "tv = read_json('../results/03_fine_tuning/tv/qlora_open_cabrita.json')\n",
    "reli = read_json('../results/03_fine_tuning/reli/qlora_open_cabrita.json')"
   ]
  },
  {
   "cell_type": "code",
   "execution_count": 9,
   "metadata": {},
   "outputs": [],
   "source": [
    "results_dict = defaultdict(list)\n",
    "for name, results in zip(['TV', 'ReLi'], [tv, reli]):\n",
    "    for metric in ('precision', 'recall', 'f1'):\n",
    "        results_dict['name'].append(name)\n",
    "        results_dict['metric'].append(results['results'][metric])\n",
    "        results_dict['metric_name'].append(metric.capitalize())"
   ]
  },
  {
   "cell_type": "code",
   "execution_count": 10,
   "metadata": {},
   "outputs": [
    {
     "data": {
      "text/html": [
       "<div>\n",
       "<style scoped>\n",
       "    .dataframe tbody tr th:only-of-type {\n",
       "        vertical-align: middle;\n",
       "    }\n",
       "\n",
       "    .dataframe tbody tr th {\n",
       "        vertical-align: top;\n",
       "    }\n",
       "\n",
       "    .dataframe thead th {\n",
       "        text-align: right;\n",
       "    }\n",
       "</style>\n",
       "<table border=\"1\" class=\"dataframe\">\n",
       "  <thead>\n",
       "    <tr style=\"text-align: right;\">\n",
       "      <th></th>\n",
       "      <th>name</th>\n",
       "      <th>metric</th>\n",
       "      <th>metric_name</th>\n",
       "    </tr>\n",
       "  </thead>\n",
       "  <tbody>\n",
       "    <tr>\n",
       "      <th>0</th>\n",
       "      <td>TV</td>\n",
       "      <td>0.66</td>\n",
       "      <td>Precision</td>\n",
       "    </tr>\n",
       "    <tr>\n",
       "      <th>1</th>\n",
       "      <td>TV</td>\n",
       "      <td>0.70</td>\n",
       "      <td>Recall</td>\n",
       "    </tr>\n",
       "    <tr>\n",
       "      <th>2</th>\n",
       "      <td>TV</td>\n",
       "      <td>0.68</td>\n",
       "      <td>F1</td>\n",
       "    </tr>\n",
       "    <tr>\n",
       "      <th>3</th>\n",
       "      <td>ReLi</td>\n",
       "      <td>0.74</td>\n",
       "      <td>Precision</td>\n",
       "    </tr>\n",
       "    <tr>\n",
       "      <th>4</th>\n",
       "      <td>ReLi</td>\n",
       "      <td>0.34</td>\n",
       "      <td>Recall</td>\n",
       "    </tr>\n",
       "    <tr>\n",
       "      <th>5</th>\n",
       "      <td>ReLi</td>\n",
       "      <td>0.46</td>\n",
       "      <td>F1</td>\n",
       "    </tr>\n",
       "  </tbody>\n",
       "</table>\n",
       "</div>"
      ],
      "text/plain": [
       "   name  metric metric_name\n",
       "0    TV    0.66   Precision\n",
       "1    TV    0.70      Recall\n",
       "2    TV    0.68          F1\n",
       "3  ReLi    0.74   Precision\n",
       "4  ReLi    0.34      Recall\n",
       "5  ReLi    0.46          F1"
      ]
     },
     "execution_count": 10,
     "metadata": {},
     "output_type": "execute_result"
    }
   ],
   "source": [
    "results_df = pd.DataFrame(results_dict)\n",
    "results_df"
   ]
  },
  {
   "cell_type": "code",
   "execution_count": 11,
   "metadata": {},
   "outputs": [
    {
     "data": {
      "image/png": "[encoded data removed]",
      "text/plain": [
       "<Figure size 720x432 with 1 Axes>"
      ]
     },
     "metadata": {
      "needs_background": "light"
     },
     "output_type": "display_data"
    }
   ],
   "source": [
    "plt.figure(figsize=(10, 6))\n",
    "sns.set_style('whitegrid')\n",
    "sns.barplot(\n",
    "    x='metric_name',\n",
    "    y='metric',\n",
    "    hue='name',\n",
    "    data=results_df,\n",
    "    palette='Set2'\n",
    ")\n",
    "\n",
    "# sns.despine(left=False)\n",
    "plt.legend(title='Conjunto')\n",
    "plt.xlabel('')\n",
    "plt.ylabel('Valor')\n",
    "plt.title('Métricas por Conjunto - openCabrita QLoRa')\n",
    "plt.savefig('../images/open_cabrita_qlora.png', bbox_inches='tight')\n",
    "plt.show()"
   ]
  },
  {
   "cell_type": "code",
   "execution_count": null,
   "metadata": {},
   "outputs": [],
   "source": []
  }
 ],
 "metadata": {
  "kernelspec": {
   "display_name": "base",
   "language": "python",
   "name": "python3"
  },
  "language_info": {
   "codemirror_mode": {
    "name": "ipython",
    "version": 3
   },
   "file_extension": ".py",
   "mimetype": "text/x-python",
   "name": "python",
   "nbconvert_exporter": "python",
   "pygments_lexer": "ipython3",
   "version": "3.9.7"
  },
  "orig_nbformat": 4
 },
 "nbformat": 4,
 "nbformat_minor": 2
}
