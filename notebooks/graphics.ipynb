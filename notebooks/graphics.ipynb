{
 "cells": [
  {
   "cell_type": "code",
   "execution_count": 1,
   "metadata": {},
   "outputs": [],
   "source": [
    "from collections import defaultdict\n",
    "\n",
    "import json\n",
    "import pandas as pd\n",
    "import matplotlib.pyplot as plt\n",
    "import seaborn as sns"
   ]
  },
  {
   "cell_type": "code",
   "execution_count": 2,
   "metadata": {},
   "outputs": [],
   "source": [
    "def read_json(path):\n",
    "    with open(path) as f:\n",
    "        data = json.load(f)\n",
    "    return data"
   ]
  },
  {
   "cell_type": "markdown",
   "metadata": {},
   "source": [
    "# Baseline"
   ]
  },
  {
   "cell_type": "code",
   "execution_count": 3,
   "metadata": {},
   "outputs": [],
   "source": [
    "tv = read_json('../results/00_baseline/tv.json')\n",
    "reli = read_json('../results/00_baseline/reli.json')"
   ]
  },
  {
   "cell_type": "code",
   "execution_count": 4,
   "metadata": {},
   "outputs": [],
   "source": [
    "results_dict = defaultdict(list)\n",
    "for name, results in zip(['tv', 'reli'], [tv, reli]):\n",
    "    for metric in ('precision', 'recall', 'f1'):\n",
    "        results_dict['name'].append(name.capitalize())\n",
    "        results_dict['metric'].append(results['results'][metric])\n",
    "        results_dict['metric_name'].append(metric.capitalize())"
   ]
  },
  {
   "cell_type": "code",
   "execution_count": 5,
   "metadata": {},
   "outputs": [
    {
     "data": {
      "text/html": [
       "<div>\n",
       "<style scoped>\n",
       "    .dataframe tbody tr th:only-of-type {\n",
       "        vertical-align: middle;\n",
       "    }\n",
       "\n",
       "    .dataframe tbody tr th {\n",
       "        vertical-align: top;\n",
       "    }\n",
       "\n",
       "    .dataframe thead th {\n",
       "        text-align: right;\n",
       "    }\n",
       "</style>\n",
       "<table border=\"1\" class=\"dataframe\">\n",
       "  <thead>\n",
       "    <tr style=\"text-align: right;\">\n",
       "      <th></th>\n",
       "      <th>name</th>\n",
       "      <th>metric</th>\n",
       "      <th>metric_name</th>\n",
       "    </tr>\n",
       "  </thead>\n",
       "  <tbody>\n",
       "    <tr>\n",
       "      <th>0</th>\n",
       "      <td>Tv</td>\n",
       "      <td>0.821739</td>\n",
       "      <td>Precision</td>\n",
       "    </tr>\n",
       "    <tr>\n",
       "      <th>1</th>\n",
       "      <td>Tv</td>\n",
       "      <td>0.825328</td>\n",
       "      <td>Recall</td>\n",
       "    </tr>\n",
       "    <tr>\n",
       "      <th>2</th>\n",
       "      <td>Tv</td>\n",
       "      <td>0.823529</td>\n",
       "      <td>F1</td>\n",
       "    </tr>\n",
       "    <tr>\n",
       "      <th>3</th>\n",
       "      <td>Reli</td>\n",
       "      <td>0.586736</td>\n",
       "      <td>Precision</td>\n",
       "    </tr>\n",
       "    <tr>\n",
       "      <th>4</th>\n",
       "      <td>Reli</td>\n",
       "      <td>0.625441</td>\n",
       "      <td>Recall</td>\n",
       "    </tr>\n",
       "    <tr>\n",
       "      <th>5</th>\n",
       "      <td>Reli</td>\n",
       "      <td>0.605047</td>\n",
       "      <td>F1</td>\n",
       "    </tr>\n",
       "  </tbody>\n",
       "</table>\n",
       "</div>"
      ],
      "text/plain": [
       "   name    metric metric_name\n",
       "0    Tv  0.821739   Precision\n",
       "1    Tv  0.825328      Recall\n",
       "2    Tv  0.823529          F1\n",
       "3  Reli  0.586736   Precision\n",
       "4  Reli  0.625441      Recall\n",
       "5  Reli  0.605047          F1"
      ]
     },
     "execution_count": 5,
     "metadata": {},
     "output_type": "execute_result"
    }
   ],
   "source": [
    "results_df = pd.DataFrame(results_dict)\n",
    "results_df"
   ]
  },
  {
   "cell_type": "code",
   "execution_count": 6,
   "metadata": {},
   "outputs": [
    {
     "data": {
      "image/png": "[encoded data removed]",
      "text/plain": [
       "<Figure size 720x432 with 1 Axes>"
      ]
     },
     "metadata": {
      "needs_background": "light"
     },
     "output_type": "display_data"
    }
   ],
   "source": [
    "plt.figure(figsize=(10, 6))\n",
    "sns.set_style('whitegrid')\n",
    "ax = sns.barplot(\n",
    "    x='metric_name',\n",
    "    y='metric',\n",
    "    hue='name',\n",
    "    data=results_df,\n",
    "    palette='Set2'\n",
    ")\n",
    "\n",
    "for p in ax.patches:\n",
    "    ax.annotate(\n",
    "        format(p.get_height(), '.2f'),\n",
    "        (p.get_x() + p.get_width() / 2., p.get_height() - 0.005),\n",
    "        ha='center',\n",
    "        va='center', \n",
    "        xytext=(0, 9),\n",
    "        textcoords='offset points',\n",
    "        fontweight='bold',\n",
    "        fontsize=10\n",
    "    )\n",
    "\n",
    "sns.despine(left=False)\n",
    "ax.spines['bottom'].set_color('black')\n",
    "ax.spines['left'].set_color('black')\n",
    "plt.legend(title='Conjunto')\n",
    "plt.xlabel('')\n",
    "plt.ylabel('Valor')\n",
    "# plt.title('Métricas por Modelo - Baseline')\n",
    "plt.savefig('../images/baseline.png', bbox_inches='tight')\n",
    "plt.show()"
   ]
  },
  {
   "cell_type": "markdown",
   "metadata": {},
   "source": [
    "# BERTvisio and LiteraBERT"
   ]
  },
  {
   "cell_type": "code",
   "execution_count": 7,
   "metadata": {},
   "outputs": [],
   "source": [
    "tv = read_json('../results/03_fine_tuning/tv/bert_visio.json')\n",
    "reli = read_json('../results/03_fine_tuning/reli/litera_bert.json')"
   ]
  },
  {
   "cell_type": "code",
   "execution_count": 8,
   "metadata": {},
   "outputs": [],
   "source": [
    "results_dict = defaultdict(list)\n",
    "for name, results in zip(['BERTtv', 'BERTreli'], [tv, reli]):\n",
    "    for metric in ('precision', 'recall', 'f1'):\n",
    "        results_dict['name'].append(name)\n",
    "        results_dict['metric'].append(results['results'][metric])\n",
    "        results_dict['metric_name'].append(metric.capitalize())"
   ]
  },
  {
   "cell_type": "code",
   "execution_count": 9,
   "metadata": {},
   "outputs": [
    {
     "data": {
      "text/html": [
       "<div>\n",
       "<style scoped>\n",
       "    .dataframe tbody tr th:only-of-type {\n",
       "        vertical-align: middle;\n",
       "    }\n",
       "\n",
       "    .dataframe tbody tr th {\n",
       "        vertical-align: top;\n",
       "    }\n",
       "\n",
       "    .dataframe thead th {\n",
       "        text-align: right;\n",
       "    }\n",
       "</style>\n",
       "<table border=\"1\" class=\"dataframe\">\n",
       "  <thead>\n",
       "    <tr style=\"text-align: right;\">\n",
       "      <th></th>\n",
       "      <th>name</th>\n",
       "      <th>metric</th>\n",
       "      <th>metric_name</th>\n",
       "    </tr>\n",
       "  </thead>\n",
       "  <tbody>\n",
       "    <tr>\n",
       "      <th>0</th>\n",
       "      <td>BERTtv</td>\n",
       "      <td>0.725410</td>\n",
       "      <td>Precision</td>\n",
       "    </tr>\n",
       "    <tr>\n",
       "      <th>1</th>\n",
       "      <td>BERTtv</td>\n",
       "      <td>0.772926</td>\n",
       "      <td>Recall</td>\n",
       "    </tr>\n",
       "    <tr>\n",
       "      <th>2</th>\n",
       "      <td>BERTtv</td>\n",
       "      <td>0.748414</td>\n",
       "      <td>F1</td>\n",
       "    </tr>\n",
       "    <tr>\n",
       "      <th>3</th>\n",
       "      <td>BERTreli</td>\n",
       "      <td>0.566802</td>\n",
       "      <td>Precision</td>\n",
       "    </tr>\n",
       "    <tr>\n",
       "      <th>4</th>\n",
       "      <td>BERTreli</td>\n",
       "      <td>0.516605</td>\n",
       "      <td>Recall</td>\n",
       "    </tr>\n",
       "    <tr>\n",
       "      <th>5</th>\n",
       "      <td>BERTreli</td>\n",
       "      <td>0.540541</td>\n",
       "      <td>F1</td>\n",
       "    </tr>\n",
       "  </tbody>\n",
       "</table>\n",
       "</div>"
      ],
      "text/plain": [
       "       name    metric metric_name\n",
       "0    BERTtv  0.725410   Precision\n",
       "1    BERTtv  0.772926      Recall\n",
       "2    BERTtv  0.748414          F1\n",
       "3  BERTreli  0.566802   Precision\n",
       "4  BERTreli  0.516605      Recall\n",
       "5  BERTreli  0.540541          F1"
      ]
     },
     "execution_count": 9,
     "metadata": {},
     "output_type": "execute_result"
    }
   ],
   "source": [
    "results_df = pd.DataFrame(results_dict)\n",
    "results_df"
   ]
  },
  {
   "cell_type": "code",
   "execution_count": 10,
   "metadata": {},
   "outputs": [
    {
     "data": {
      "image/png": "[encoded data removed]",
      "text/plain": [
       "<Figure size 720x432 with 1 Axes>"
      ]
     },
     "metadata": {},
     "output_type": "display_data"
    }
   ],
   "source": [
    "plt.figure(figsize=(10, 6))\n",
    "sns.set_style('whitegrid')\n",
    "ax = sns.barplot(\n",
    "    x='metric_name',\n",
    "    y='metric',\n",
    "    hue='name',\n",
    "    data=results_df,\n",
    "    palette='Set2'\n",
    ")\n",
    "\n",
    "for p in ax.patches:\n",
    "    ax.annotate(\n",
    "        format(p.get_height(), '.2f'),\n",
    "        (p.get_x() + p.get_width() / 2., p.get_height() - 0.005),\n",
    "        ha='center',\n",
    "        va='center', \n",
    "        xytext=(0, 9),\n",
    "        textcoords='offset points',\n",
    "        fontweight='bold',\n",
    "        fontsize=10\n",
    "    )\n",
    "\n",
    "sns.despine(left=False)\n",
    "ax.spines['bottom'].set_color('black')\n",
    "ax.spines['left'].set_color('black')\n",
    "plt.legend(title='Modelo', loc='upper right')\n",
    "plt.xlabel('')\n",
    "plt.ylabel('Valor')\n",
    "# plt.title('Métricas por Modelo - Domínio Específico')\n",
    "plt.savefig('../images/bert_specific_domain.png', bbox_inches='tight')\n",
    "plt.show()"
   ]
  },
  {
   "cell_type": "markdown",
   "metadata": {},
   "source": [
    "# Double Embedding"
   ]
  },
  {
   "cell_type": "code",
   "execution_count": 11,
   "metadata": {},
   "outputs": [],
   "source": [
    "tv = read_json('../results/03_fine_tuning/tv/d_bert_visio.json')\n",
    "reli = read_json('../results/03_fine_tuning/reli/d_litera_bert.json')"
   ]
  },
  {
   "cell_type": "code",
   "execution_count": 12,
   "metadata": {},
   "outputs": [],
   "source": [
    "results_dict = defaultdict(list)\n",
    "for name, results in zip(['d-BERTtv', 'd-BERTreli'], [tv, reli]):\n",
    "    for metric in ('precision', 'recall', 'f1'):\n",
    "        results_dict['name'].append(name)\n",
    "        results_dict['metric'].append(results['results'][metric])\n",
    "        results_dict['metric_name'].append(metric.capitalize())"
   ]
  },
  {
   "cell_type": "code",
   "execution_count": 13,
   "metadata": {},
   "outputs": [
    {
     "data": {
      "text/html": [
       "<div>\n",
       "<style scoped>\n",
       "    .dataframe tbody tr th:only-of-type {\n",
       "        vertical-align: middle;\n",
       "    }\n",
       "\n",
       "    .dataframe tbody tr th {\n",
       "        vertical-align: top;\n",
       "    }\n",
       "\n",
       "    .dataframe thead th {\n",
       "        text-align: right;\n",
       "    }\n",
       "</style>\n",
       "<table border=\"1\" class=\"dataframe\">\n",
       "  <thead>\n",
       "    <tr style=\"text-align: right;\">\n",
       "      <th></th>\n",
       "      <th>name</th>\n",
       "      <th>metric</th>\n",
       "      <th>metric_name</th>\n",
       "    </tr>\n",
       "  </thead>\n",
       "  <tbody>\n",
       "    <tr>\n",
       "      <th>0</th>\n",
       "      <td>d-BERTtv</td>\n",
       "      <td>0.800000</td>\n",
       "      <td>Precision</td>\n",
       "    </tr>\n",
       "    <tr>\n",
       "      <th>1</th>\n",
       "      <td>d-BERTtv</td>\n",
       "      <td>0.837607</td>\n",
       "      <td>Recall</td>\n",
       "    </tr>\n",
       "    <tr>\n",
       "      <th>2</th>\n",
       "      <td>d-BERTtv</td>\n",
       "      <td>0.818372</td>\n",
       "      <td>F1</td>\n",
       "    </tr>\n",
       "    <tr>\n",
       "      <th>3</th>\n",
       "      <td>d-BERTreli</td>\n",
       "      <td>0.578261</td>\n",
       "      <td>Precision</td>\n",
       "    </tr>\n",
       "    <tr>\n",
       "      <th>4</th>\n",
       "      <td>d-BERTreli</td>\n",
       "      <td>0.490775</td>\n",
       "      <td>Recall</td>\n",
       "    </tr>\n",
       "    <tr>\n",
       "      <th>5</th>\n",
       "      <td>d-BERTreli</td>\n",
       "      <td>0.530938</td>\n",
       "      <td>F1</td>\n",
       "    </tr>\n",
       "  </tbody>\n",
       "</table>\n",
       "</div>"
      ],
      "text/plain": [
       "         name    metric metric_name\n",
       "0    d-BERTtv  0.800000   Precision\n",
       "1    d-BERTtv  0.837607      Recall\n",
       "2    d-BERTtv  0.818372          F1\n",
       "3  d-BERTreli  0.578261   Precision\n",
       "4  d-BERTreli  0.490775      Recall\n",
       "5  d-BERTreli  0.530938          F1"
      ]
     },
     "execution_count": 13,
     "metadata": {},
     "output_type": "execute_result"
    }
   ],
   "source": [
    "results_df = pd.DataFrame(results_dict)\n",
    "results_df"
   ]
  },
  {
   "cell_type": "code",
   "execution_count": 14,
   "metadata": {},
   "outputs": [
    {
     "data": {
      "image/png": "[encoded data removed]",
      "text/plain": [
       "<Figure size 720x432 with 1 Axes>"
      ]
     },
     "metadata": {},
     "output_type": "display_data"
    }
   ],
   "source": [
    "plt.figure(figsize=(10, 6))\n",
    "sns.set_style('whitegrid')\n",
    "ax = sns.barplot(\n",
    "    x='metric_name',\n",
    "    y='metric',\n",
    "    hue='name',\n",
    "    data=results_df,\n",
    "    palette='Set2'\n",
    ")\n",
    "\n",
    "for p in ax.patches:\n",
    "    ax.annotate(\n",
    "        format(p.get_height(), '.2f'),\n",
    "        (p.get_x() + p.get_width() / 2., p.get_height() - 0.005),\n",
    "        ha='center',\n",
    "        va='center', \n",
    "        xytext=(0, 9),\n",
    "        textcoords='offset points',\n",
    "        fontweight='bold',\n",
    "        fontsize=10\n",
    "    )\n",
    "\n",
    "sns.despine(left=False)\n",
    "ax.spines['bottom'].set_color('black')\n",
    "ax.spines['left'].set_color('black')\n",
    "plt.legend(title='Modelo')\n",
    "plt.xlabel('')\n",
    "plt.ylabel('Valor')\n",
    "# plt.title('Métricas por Modelo - Duplo Embedding')\n",
    "plt.savefig('../images/duplo_embedding_1.png', bbox_inches='tight')\n",
    "plt.show()"
   ]
  },
  {
   "cell_type": "code",
   "execution_count": 15,
   "metadata": {},
   "outputs": [],
   "source": [
    "tv = read_json('../results/03_fine_tuning/tv/d_bert_visio_ffn.json')\n",
    "reli = read_json('../results/03_fine_tuning/reli/d_litera_bert_ffn.json')"
   ]
  },
  {
   "cell_type": "code",
   "execution_count": 16,
   "metadata": {},
   "outputs": [],
   "source": [
    "results_dict = defaultdict(list)\n",
    "for name, results in zip(['d-BERTtv-FFN', 'd-BERTreli-FFN'], [tv, reli]):\n",
    "    for metric in ('precision', 'recall', 'f1'):\n",
    "        results_dict['name'].append(name)\n",
    "        results_dict['metric'].append(results['results'][metric])\n",
    "        results_dict['metric_name'].append(metric.capitalize())"
   ]
  },
  {
   "cell_type": "code",
   "execution_count": 17,
   "metadata": {},
   "outputs": [
    {
     "data": {
      "text/html": [
       "<div>\n",
       "<style scoped>\n",
       "    .dataframe tbody tr th:only-of-type {\n",
       "        vertical-align: middle;\n",
       "    }\n",
       "\n",
       "    .dataframe tbody tr th {\n",
       "        vertical-align: top;\n",
       "    }\n",
       "\n",
       "    .dataframe thead th {\n",
       "        text-align: right;\n",
       "    }\n",
       "</style>\n",
       "<table border=\"1\" class=\"dataframe\">\n",
       "  <thead>\n",
       "    <tr style=\"text-align: right;\">\n",
       "      <th></th>\n",
       "      <th>name</th>\n",
       "      <th>metric</th>\n",
       "      <th>metric_name</th>\n",
       "    </tr>\n",
       "  </thead>\n",
       "  <tbody>\n",
       "    <tr>\n",
       "      <th>0</th>\n",
       "      <td>d-BERTtv-FFN</td>\n",
       "      <td>0.800000</td>\n",
       "      <td>Precision</td>\n",
       "    </tr>\n",
       "    <tr>\n",
       "      <th>1</th>\n",
       "      <td>d-BERTtv-FFN</td>\n",
       "      <td>0.871795</td>\n",
       "      <td>Recall</td>\n",
       "    </tr>\n",
       "    <tr>\n",
       "      <th>2</th>\n",
       "      <td>d-BERTtv-FFN</td>\n",
       "      <td>0.834356</td>\n",
       "      <td>F1</td>\n",
       "    </tr>\n",
       "    <tr>\n",
       "      <th>3</th>\n",
       "      <td>d-BERTreli-FFN</td>\n",
       "      <td>0.640000</td>\n",
       "      <td>Precision</td>\n",
       "    </tr>\n",
       "    <tr>\n",
       "      <th>4</th>\n",
       "      <td>d-BERTreli-FFN</td>\n",
       "      <td>0.472325</td>\n",
       "      <td>Recall</td>\n",
       "    </tr>\n",
       "    <tr>\n",
       "      <th>5</th>\n",
       "      <td>d-BERTreli-FFN</td>\n",
       "      <td>0.543524</td>\n",
       "      <td>F1</td>\n",
       "    </tr>\n",
       "  </tbody>\n",
       "</table>\n",
       "</div>"
      ],
      "text/plain": [
       "             name    metric metric_name\n",
       "0    d-BERTtv-FFN  0.800000   Precision\n",
       "1    d-BERTtv-FFN  0.871795      Recall\n",
       "2    d-BERTtv-FFN  0.834356          F1\n",
       "3  d-BERTreli-FFN  0.640000   Precision\n",
       "4  d-BERTreli-FFN  0.472325      Recall\n",
       "5  d-BERTreli-FFN  0.543524          F1"
      ]
     },
     "execution_count": 17,
     "metadata": {},
     "output_type": "execute_result"
    }
   ],
   "source": [
    "results_df = pd.DataFrame(results_dict)\n",
    "results_df"
   ]
  },
  {
   "cell_type": "code",
   "execution_count": 18,
   "metadata": {},
   "outputs": [
    {
     "data": {
      "image/png": "[encoded data removed]",
      "text/plain": [
       "<Figure size 720x432 with 1 Axes>"
      ]
     },
     "metadata": {},
     "output_type": "display_data"
    }
   ],
   "source": [
    "plt.figure(figsize=(10, 6))\n",
    "sns.set_style('whitegrid')\n",
    "ax = sns.barplot(\n",
    "    x='metric_name',\n",
    "    y='metric',\n",
    "    hue='name',\n",
    "    data=results_df,\n",
    "    palette='Set2'\n",
    ")\n",
    "\n",
    "for p in ax.patches:\n",
    "    ax.annotate(\n",
    "        format(p.get_height(), '.2f'),\n",
    "        (p.get_x() + p.get_width() / 2., p.get_height() - 0.005),\n",
    "        ha='center',\n",
    "        va='center', \n",
    "        xytext=(0, 9),\n",
    "        textcoords='offset points',\n",
    "        fontweight='bold',\n",
    "        fontsize=10\n",
    "    )\n",
    "sns.despine(left=False)\n",
    "ax.spines['bottom'].set_color('black')\n",
    "ax.spines['left'].set_color('black')\n",
    "plt.legend(title='Modelo', bbox_to_anchor=(1.05, 1))\n",
    "plt.xlabel('')\n",
    "plt.ylabel('Valor')\n",
    "# plt.title('Métricas por Modelo - Duplo Embedding + FFN')\n",
    "plt.savefig('../images/duplo_embedding_2.png', bbox_inches='tight')\n",
    "plt.show()"
   ]
  },
  {
   "cell_type": "markdown",
   "metadata": {},
   "source": [
    "# GPT"
   ]
  },
  {
   "cell_type": "code",
   "execution_count": 19,
   "metadata": {},
   "outputs": [],
   "source": [
    "tv = read_json('../results/03_fine_tuning/tv/gpt.json')"
   ]
  },
  {
   "cell_type": "code",
   "execution_count": 20,
   "metadata": {},
   "outputs": [],
   "source": [
    "results_dict = defaultdict(list)\n",
    "for name, results in tv.items():\n",
    "    if name == 'hyperparams':\n",
    "        continue\n",
    "    for metric in ('precision', 'recall', 'f1'):\n",
    "        results_dict['name'].append(name)\n",
    "        results_dict['metric'].append(results[metric])\n",
    "        results_dict['metric_name'].append(metric.capitalize())"
   ]
  },
  {
   "cell_type": "code",
   "execution_count": 21,
   "metadata": {},
   "outputs": [
    {
     "data": {
      "text/html": [
       "<div>\n",
       "<style scoped>\n",
       "    .dataframe tbody tr th:only-of-type {\n",
       "        vertical-align: middle;\n",
       "    }\n",
       "\n",
       "    .dataframe tbody tr th {\n",
       "        vertical-align: top;\n",
       "    }\n",
       "\n",
       "    .dataframe thead th {\n",
       "        text-align: right;\n",
       "    }\n",
       "</style>\n",
       "<table border=\"1\" class=\"dataframe\">\n",
       "  <thead>\n",
       "    <tr style=\"text-align: right;\">\n",
       "      <th></th>\n",
       "      <th>name</th>\n",
       "      <th>metric</th>\n",
       "      <th>metric_name</th>\n",
       "    </tr>\n",
       "  </thead>\n",
       "  <tbody>\n",
       "    <tr>\n",
       "      <th>0</th>\n",
       "      <td>ada</td>\n",
       "      <td>0.7627</td>\n",
       "      <td>Precision</td>\n",
       "    </tr>\n",
       "    <tr>\n",
       "      <th>1</th>\n",
       "      <td>ada</td>\n",
       "      <td>0.8000</td>\n",
       "      <td>Recall</td>\n",
       "    </tr>\n",
       "    <tr>\n",
       "      <th>2</th>\n",
       "      <td>ada</td>\n",
       "      <td>0.7809</td>\n",
       "      <td>F1</td>\n",
       "    </tr>\n",
       "    <tr>\n",
       "      <th>3</th>\n",
       "      <td>babbage</td>\n",
       "      <td>0.7787</td>\n",
       "      <td>Precision</td>\n",
       "    </tr>\n",
       "    <tr>\n",
       "      <th>4</th>\n",
       "      <td>babbage</td>\n",
       "      <td>0.8133</td>\n",
       "      <td>Recall</td>\n",
       "    </tr>\n",
       "    <tr>\n",
       "      <th>5</th>\n",
       "      <td>babbage</td>\n",
       "      <td>0.7957</td>\n",
       "      <td>F1</td>\n",
       "    </tr>\n",
       "    <tr>\n",
       "      <th>6</th>\n",
       "      <td>curie</td>\n",
       "      <td>0.7530</td>\n",
       "      <td>Precision</td>\n",
       "    </tr>\n",
       "    <tr>\n",
       "      <th>7</th>\n",
       "      <td>curie</td>\n",
       "      <td>0.8400</td>\n",
       "      <td>Recall</td>\n",
       "    </tr>\n",
       "    <tr>\n",
       "      <th>8</th>\n",
       "      <td>curie</td>\n",
       "      <td>0.7941</td>\n",
       "      <td>F1</td>\n",
       "    </tr>\n",
       "  </tbody>\n",
       "</table>\n",
       "</div>"
      ],
      "text/plain": [
       "      name  metric metric_name\n",
       "0      ada  0.7627   Precision\n",
       "1      ada  0.8000      Recall\n",
       "2      ada  0.7809          F1\n",
       "3  babbage  0.7787   Precision\n",
       "4  babbage  0.8133      Recall\n",
       "5  babbage  0.7957          F1\n",
       "6    curie  0.7530   Precision\n",
       "7    curie  0.8400      Recall\n",
       "8    curie  0.7941          F1"
      ]
     },
     "execution_count": 21,
     "metadata": {},
     "output_type": "execute_result"
    }
   ],
   "source": [
    "results_df = pd.DataFrame(results_dict)\n",
    "results_df"
   ]
  },
  {
   "cell_type": "code",
   "execution_count": 22,
   "metadata": {},
   "outputs": [
    {
     "data": {
      "image/png": "[encoded data removed]",
      "text/plain": [
       "<Figure size 720x432 with 1 Axes>"
      ]
     },
     "metadata": {},
     "output_type": "display_data"
    }
   ],
   "source": [
    "plt.figure(figsize=(10, 6))\n",
    "sns.set_style('whitegrid')\n",
    "ax = sns.barplot(\n",
    "    x='metric_name',\n",
    "    y='metric',\n",
    "    hue='name',\n",
    "    data=results_df,\n",
    "    palette='Set2'\n",
    ")\n",
    "\n",
    "for p in ax.patches:\n",
    "    ax.annotate(\n",
    "        format(p.get_height(), '.2f'),\n",
    "        (p.get_x() + p.get_width() / 2., p.get_height() - 0.005),\n",
    "        ha='center',\n",
    "        va='center', \n",
    "        xytext=(0, 9),\n",
    "        textcoords='offset points',\n",
    "        fontweight='bold',\n",
    "        fontsize=10\n",
    "    )\n",
    "\n",
    "sns.despine(left=False)\n",
    "ax.spines['bottom'].set_color('black')\n",
    "ax.spines['left'].set_color('black')\n",
    "plt.legend(title='Modelo', loc='upper right', bbox_to_anchor=(1.17, 1.015))\n",
    "plt.xlabel('')\n",
    "plt.ylabel('Valor')\n",
    "# plt.title('Métricas por Modelo - GPT')\n",
    "plt.savefig('../images/gpt.png', bbox_inches='tight')\n",
    "plt.show()"
   ]
  },
  {
   "cell_type": "markdown",
   "metadata": {},
   "source": [
    "# BERTimbau com LoRa"
   ]
  },
  {
   "cell_type": "code",
   "execution_count": 23,
   "metadata": {},
   "outputs": [],
   "source": [
    "tv = read_json('../results/03_fine_tuning/tv/lora_baseline.json')\n",
    "reli = read_json('../results/03_fine_tuning/reli/lora_baseline.json')"
   ]
  },
  {
   "cell_type": "code",
   "execution_count": 24,
   "metadata": {},
   "outputs": [],
   "source": [
    "results_dict = defaultdict(list)\n",
    "for name, results in zip(['TV', 'ReLi'], [tv, reli]):\n",
    "    for metric in ('precision', 'recall', 'f1'):\n",
    "        results_dict['name'].append(name)\n",
    "        results_dict['metric'].append(results['results'][metric])\n",
    "        results_dict['metric_name'].append(metric.capitalize())"
   ]
  },
  {
   "cell_type": "code",
   "execution_count": 25,
   "metadata": {},
   "outputs": [
    {
     "data": {
      "text/html": [
       "<div>\n",
       "<style scoped>\n",
       "    .dataframe tbody tr th:only-of-type {\n",
       "        vertical-align: middle;\n",
       "    }\n",
       "\n",
       "    .dataframe tbody tr th {\n",
       "        vertical-align: top;\n",
       "    }\n",
       "\n",
       "    .dataframe thead th {\n",
       "        text-align: right;\n",
       "    }\n",
       "</style>\n",
       "<table border=\"1\" class=\"dataframe\">\n",
       "  <thead>\n",
       "    <tr style=\"text-align: right;\">\n",
       "      <th></th>\n",
       "      <th>name</th>\n",
       "      <th>metric</th>\n",
       "      <th>metric_name</th>\n",
       "    </tr>\n",
       "  </thead>\n",
       "  <tbody>\n",
       "    <tr>\n",
       "      <th>0</th>\n",
       "      <td>TV</td>\n",
       "      <td>0.834025</td>\n",
       "      <td>Precision</td>\n",
       "    </tr>\n",
       "    <tr>\n",
       "      <th>1</th>\n",
       "      <td>TV</td>\n",
       "      <td>0.858974</td>\n",
       "      <td>Recall</td>\n",
       "    </tr>\n",
       "    <tr>\n",
       "      <th>2</th>\n",
       "      <td>TV</td>\n",
       "      <td>0.846316</td>\n",
       "      <td>F1</td>\n",
       "    </tr>\n",
       "    <tr>\n",
       "      <th>3</th>\n",
       "      <td>ReLi</td>\n",
       "      <td>0.628253</td>\n",
       "      <td>Precision</td>\n",
       "    </tr>\n",
       "    <tr>\n",
       "      <th>4</th>\n",
       "      <td>ReLi</td>\n",
       "      <td>0.601423</td>\n",
       "      <td>Recall</td>\n",
       "    </tr>\n",
       "    <tr>\n",
       "      <th>5</th>\n",
       "      <td>ReLi</td>\n",
       "      <td>0.614545</td>\n",
       "      <td>F1</td>\n",
       "    </tr>\n",
       "  </tbody>\n",
       "</table>\n",
       "</div>"
      ],
      "text/plain": [
       "   name    metric metric_name\n",
       "0    TV  0.834025   Precision\n",
       "1    TV  0.858974      Recall\n",
       "2    TV  0.846316          F1\n",
       "3  ReLi  0.628253   Precision\n",
       "4  ReLi  0.601423      Recall\n",
       "5  ReLi  0.614545          F1"
      ]
     },
     "execution_count": 25,
     "metadata": {},
     "output_type": "execute_result"
    }
   ],
   "source": [
    "results_df = pd.DataFrame(results_dict)\n",
    "results_df"
   ]
  },
  {
   "cell_type": "code",
   "execution_count": 26,
   "metadata": {},
   "outputs": [
    {
     "data": {
      "image/png": "[encoded data removed]",
      "text/plain": [
       "<Figure size 720x432 with 1 Axes>"
      ]
     },
     "metadata": {},
     "output_type": "display_data"
    }
   ],
   "source": [
    "plt.figure(figsize=(10, 6))\n",
    "sns.set_style('whitegrid')\n",
    "ax = sns.barplot(\n",
    "    x='metric_name',\n",
    "    y='metric',\n",
    "    hue='name',\n",
    "    data=results_df,\n",
    "    palette='Set2'\n",
    ")\n",
    "\n",
    "for p in ax.patches:\n",
    "    ax.annotate(\n",
    "        format(p.get_height(), '.2f'),\n",
    "        (p.get_x() + p.get_width() / 2., p.get_height() - 0.005),\n",
    "        ha='center',\n",
    "        va='center', \n",
    "        xytext=(0, 9),\n",
    "        textcoords='offset points',\n",
    "        fontweight='bold',\n",
    "        fontsize=10\n",
    "    )\n",
    "\n",
    "sns.despine(left=False)\n",
    "ax.spines['bottom'].set_color('black')\n",
    "ax.spines['left'].set_color('black')\n",
    "plt.legend(title='Conjunto')\n",
    "plt.xlabel('')\n",
    "plt.ylabel('Valor')\n",
    "# plt.title('Métricas por Conjunto - Domínio Geral com LoRa')\n",
    "plt.savefig('../images/baseline_lora.png', bbox_inches='tight')\n",
    "plt.show()"
   ]
  },
  {
   "cell_type": "markdown",
   "metadata": {},
   "source": [
    "# openCabrita com QLoRa"
   ]
  },
  {
   "cell_type": "code",
   "execution_count": 27,
   "metadata": {},
   "outputs": [],
   "source": [
    "tv = read_json('../results/03_fine_tuning/tv/qlora_open_cabrita.json')\n",
    "reli = read_json('../results/03_fine_tuning/reli/qlora_open_cabrita.json')"
   ]
  },
  {
   "cell_type": "code",
   "execution_count": 28,
   "metadata": {},
   "outputs": [],
   "source": [
    "results_dict = defaultdict(list)\n",
    "for name, results in zip(['TV', 'ReLi'], [tv, reli]):\n",
    "    for metric in ('precision', 'recall', 'f1'):\n",
    "        results_dict['name'].append(name)\n",
    "        results_dict['metric'].append(results['results'][metric])\n",
    "        results_dict['metric_name'].append(metric.capitalize())"
   ]
  },
  {
   "cell_type": "code",
   "execution_count": 29,
   "metadata": {},
   "outputs": [
    {
     "data": {
      "text/html": [
       "<div>\n",
       "<style scoped>\n",
       "    .dataframe tbody tr th:only-of-type {\n",
       "        vertical-align: middle;\n",
       "    }\n",
       "\n",
       "    .dataframe tbody tr th {\n",
       "        vertical-align: top;\n",
       "    }\n",
       "\n",
       "    .dataframe thead th {\n",
       "        text-align: right;\n",
       "    }\n",
       "</style>\n",
       "<table border=\"1\" class=\"dataframe\">\n",
       "  <thead>\n",
       "    <tr style=\"text-align: right;\">\n",
       "      <th></th>\n",
       "      <th>name</th>\n",
       "      <th>metric</th>\n",
       "      <th>metric_name</th>\n",
       "    </tr>\n",
       "  </thead>\n",
       "  <tbody>\n",
       "    <tr>\n",
       "      <th>0</th>\n",
       "      <td>TV</td>\n",
       "      <td>0.66</td>\n",
       "      <td>Precision</td>\n",
       "    </tr>\n",
       "    <tr>\n",
       "      <th>1</th>\n",
       "      <td>TV</td>\n",
       "      <td>0.70</td>\n",
       "      <td>Recall</td>\n",
       "    </tr>\n",
       "    <tr>\n",
       "      <th>2</th>\n",
       "      <td>TV</td>\n",
       "      <td>0.68</td>\n",
       "      <td>F1</td>\n",
       "    </tr>\n",
       "    <tr>\n",
       "      <th>3</th>\n",
       "      <td>ReLi</td>\n",
       "      <td>0.74</td>\n",
       "      <td>Precision</td>\n",
       "    </tr>\n",
       "    <tr>\n",
       "      <th>4</th>\n",
       "      <td>ReLi</td>\n",
       "      <td>0.34</td>\n",
       "      <td>Recall</td>\n",
       "    </tr>\n",
       "    <tr>\n",
       "      <th>5</th>\n",
       "      <td>ReLi</td>\n",
       "      <td>0.46</td>\n",
       "      <td>F1</td>\n",
       "    </tr>\n",
       "  </tbody>\n",
       "</table>\n",
       "</div>"
      ],
      "text/plain": [
       "   name  metric metric_name\n",
       "0    TV    0.66   Precision\n",
       "1    TV    0.70      Recall\n",
       "2    TV    0.68          F1\n",
       "3  ReLi    0.74   Precision\n",
       "4  ReLi    0.34      Recall\n",
       "5  ReLi    0.46          F1"
      ]
     },
     "execution_count": 29,
     "metadata": {},
     "output_type": "execute_result"
    }
   ],
   "source": [
    "results_df = pd.DataFrame(results_dict)\n",
    "results_df"
   ]
  },
  {
   "cell_type": "code",
   "execution_count": 30,
   "metadata": {},
   "outputs": [
    {
     "data": {
      "image/png": "[encoded data removed]",
      "text/plain": [
       "<Figure size 720x432 with 1 Axes>"
      ]
     },
     "metadata": {},
     "output_type": "display_data"
    }
   ],
   "source": [
    "plt.figure(figsize=(10, 6))\n",
    "sns.set_style('whitegrid')\n",
    "ax = sns.barplot(\n",
    "    x='metric_name',\n",
    "    y='metric',\n",
    "    hue='name',\n",
    "    data=results_df,\n",
    "    palette='Set2'\n",
    ")\n",
    "\n",
    "for p in ax.patches:\n",
    "    ax.annotate(\n",
    "        format(p.get_height(), '.2f'),\n",
    "        (p.get_x() + p.get_width() / 2., p.get_height() - 0.005),\n",
    "        ha='center',\n",
    "        va='center', \n",
    "        xytext=(0, 9),\n",
    "        textcoords='offset points',\n",
    "        fontweight='bold',\n",
    "        fontsize=10\n",
    "    )\n",
    "\n",
    "sns.despine(left=False)\n",
    "ax.spines['bottom'].set_color('black')\n",
    "ax.spines['left'].set_color('black')\n",
    "plt.legend(title='Conjunto')\n",
    "plt.xlabel('')\n",
    "plt.ylabel('Valor')\n",
    "# plt.title('Métricas por Conjunto - openCabrita QLoRa')\n",
    "plt.savefig('../images/open_cabrita_qlora.png', bbox_inches='tight')\n",
    "plt.show()"
   ]
  },
  {
   "cell_type": "markdown",
   "metadata": {},
   "source": [
    "# Trainable params"
   ]
  },
  {
   "cell_type": "markdown",
   "metadata": {},
   "source": [
    "### FALTA COLOCAR OS PARÂMETROS DO BASELINE"
   ]
  },
  {
   "cell_type": "code",
   "execution_count": 121,
   "metadata": {},
   "outputs": [],
   "source": [
    "import os\n",
    "import json\n",
    "\n",
    "from collections import defaultdict\n",
    "\n",
    "import pandas as pd\n",
    "import seaborn as sns\n",
    "import matplotlib.pyplot as plt"
   ]
  },
  {
   "cell_type": "code",
   "execution_count": 131,
   "metadata": {},
   "outputs": [],
   "source": [
    "# pegando todos os arquivos de resultados\n",
    "root_dir = '../results/03_fine_tuning'\n",
    "\n",
    "files = []\n",
    "for dirpath, dirnames, filenames in os.walk(root_dir):\n",
    "    for filename in filenames:\n",
    "        file_path = os.path.join(dirpath, filename)\n",
    "        if 'gpt' not in file_path:\n",
    "            files.append(file_path)\n",
    "\n",
    "# adicionando os resultados do baseline\n",
    "files.append('../results/00_baseline/tv.json')\n",
    "files.append('../results/00_baseline/reli.json')"
   ]
  },
  {
   "cell_type": "code",
   "execution_count": 142,
   "metadata": {},
   "outputs": [],
   "source": [
    "# dicionário para mapeamento do nome dos modelos\n",
    "model_mapper = {\n",
    "    \"lora_baseline\": \"BERTimbau-LoRa\",\n",
    "    \"qlora_open_cabrita\": \"openCabrita-QLoRa\",\n",
    "    \"d_bert_tv_ffn\": \"d-BERTtv-FFN\",\n",
    "    \"bert_tv\": \"BERTtv\",\n",
    "    \"d_bert_tv\": \"d-BERTtv\",\n",
    "    \"d_bert_reli\": \"d-BERTreli\",\n",
    "    \"bert_reli\": \"BERTreli\",\n",
    "    \"d_bert_reli_ffn\": \"d-BERTreli-FFN\",\n",
    "    \"tv\": \"Baseline-tv\",\n",
    "    \"reli\": \"Baseline-reli\"\n",
    "}"
   ]
  },
  {
   "cell_type": "code",
   "execution_count": 143,
   "metadata": {},
   "outputs": [],
   "source": [
    "# defaultdict com defaultdict\n",
    "trainable_params = defaultdict(lambda: defaultdict(dict))\n",
    "for file in files:\n",
    "    with open(file, 'r') as f:\n",
    "        dados = json.load(f)\n",
    "    splited_name = file.split('/')\n",
    "    dataset = splited_name[-2]\n",
    "    model = model_mapper[splited_name[-1].replace('.json', '')]\n",
    "    trainable_params[dataset][model] = {\n",
    "        \"trainable_params\": dados['trainable_params'],\n",
    "        \"f1\": dados['results']['f1']    \n",
    "    }"
   ]
  },
  {
   "cell_type": "code",
   "execution_count": 145,
   "metadata": {},
   "outputs": [],
   "source": [
    "# transformando em dataframe pandas\n",
    "data = {'Dataset': [], 'Model': [], 'Trainable Params': [], 'F1': []}\n",
    "\n",
    "for dataset, models in trainable_params.items():\n",
    "    for model, params in models.items():\n",
    "        if \"Baseline\" in model:\n",
    "            dataset = model.split('-')[-1]\n",
    "            model = model.split('-')[0]\n",
    "        data['Dataset'].append(dataset)\n",
    "        data['Model'].append(model)\n",
    "        data['Trainable Params'].append(params['trainable_params'])\n",
    "        data['F1'].append(params['f1'])\n",
    "        \n",
    "df = pd.DataFrame(data).sort_values('Trainable Params')"
   ]
  },
  {
   "cell_type": "code",
   "execution_count": 152,
   "metadata": {},
   "outputs": [
    {
     "data": {
      "text/html": [
       "<div>\n",
       "<style scoped>\n",
       "    .dataframe tbody tr th:only-of-type {\n",
       "        vertical-align: middle;\n",
       "    }\n",
       "\n",
       "    .dataframe tbody tr th {\n",
       "        vertical-align: top;\n",
       "    }\n",
       "\n",
       "    .dataframe thead th {\n",
       "        text-align: right;\n",
       "    }\n",
       "</style>\n",
       "<table border=\"1\" class=\"dataframe\">\n",
       "  <thead>\n",
       "    <tr style=\"text-align: right;\">\n",
       "      <th></th>\n",
       "      <th>Dataset</th>\n",
       "      <th>Model</th>\n",
       "      <th>Trainable Params</th>\n",
       "      <th>F1</th>\n",
       "    </tr>\n",
       "  </thead>\n",
       "  <tbody>\n",
       "    <tr>\n",
       "      <th>5</th>\n",
       "      <td>tv</td>\n",
       "      <td>BERTimbau-LoRa</td>\n",
       "      <td>915459</td>\n",
       "      <td>0.846316</td>\n",
       "    </tr>\n",
       "    <tr>\n",
       "      <th>6</th>\n",
       "      <td>tv</td>\n",
       "      <td>openCabrita-QLoRa</td>\n",
       "      <td>4326400</td>\n",
       "      <td>0.680000</td>\n",
       "    </tr>\n",
       "    <tr>\n",
       "      <th>8</th>\n",
       "      <td>tv</td>\n",
       "      <td>BERTtv</td>\n",
       "      <td>47511555</td>\n",
       "      <td>0.748414</td>\n",
       "    </tr>\n",
       "    <tr>\n",
       "      <th>10</th>\n",
       "      <td>tv</td>\n",
       "      <td>Baseline</td>\n",
       "      <td>108925443</td>\n",
       "      <td>0.823529</td>\n",
       "    </tr>\n",
       "    <tr>\n",
       "      <th>9</th>\n",
       "      <td>tv</td>\n",
       "      <td>d-BERTtv</td>\n",
       "      <td>156436995</td>\n",
       "      <td>0.818372</td>\n",
       "    </tr>\n",
       "    <tr>\n",
       "      <th>7</th>\n",
       "      <td>tv</td>\n",
       "      <td>d-BERTtv-FFN</td>\n",
       "      <td>158798595</td>\n",
       "      <td>0.834356</td>\n",
       "    </tr>\n",
       "  </tbody>\n",
       "</table>\n",
       "</div>"
      ],
      "text/plain": [
       "   Dataset              Model  Trainable Params        F1\n",
       "5       tv     BERTimbau-LoRa            915459  0.846316\n",
       "6       tv  openCabrita-QLoRa           4326400  0.680000\n",
       "8       tv             BERTtv          47511555  0.748414\n",
       "10      tv           Baseline         108925443  0.823529\n",
       "9       tv           d-BERTtv         156436995  0.818372\n",
       "7       tv       d-BERTtv-FFN         158798595  0.834356"
      ]
     },
     "execution_count": 152,
     "metadata": {},
     "output_type": "execute_result"
    }
   ],
   "source": [
    "df[df.Dataset == 'tv']"
   ]
  },
  {
   "cell_type": "code",
   "execution_count": 193,
   "metadata": {},
   "outputs": [],
   "source": [
    "def plot_trainable_params_f1(data):\n",
    "\n",
    "    sns.set_theme(style=\"white\")\n",
    "\n",
    "    fig, ax1 = plt.subplots(figsize=(10, 6))\n",
    "\n",
    "    barplot = sns.barplot(\n",
    "        x='Model', \n",
    "        y='Trainable Params', \n",
    "        data=data, \n",
    "        ax=ax1, \n",
    "        color='cornflowerblue', \n",
    "        label='Trainable Params'\n",
    "    )\n",
    "\n",
    "    ax2 = ax1.twinx()\n",
    "\n",
    "    lineplot = ax2.plot(\n",
    "        data['Model'], \n",
    "        data['F1'], \n",
    "        color='r', \n",
    "        marker='o', \n",
    "        label='F1 Score'\n",
    "    )\n",
    "\n",
    "    ax1.set_yscale('log')\n",
    "\n",
    "    ax1.set_xlabel('', fontsize=14)\n",
    "    ax1.set_ylabel('Parâmetros Treináveis (log)', fontsize=14, color='cornflowerblue')\n",
    "    ax2.set_ylabel('F1 Score', fontsize=14, color='r')\n",
    "\n",
    "    ax1.set_xticklabels(data['Model'], rotation=45)\n",
    "\n",
    "    ax1.tick_params(axis='y', colors='cornflowerblue')\n",
    "    ax2.tick_params(axis='y', colors='r')\n",
    "\n",
    "    plt.tight_layout()\n",
    "    plt.show()"
   ]
  },
  {
   "cell_type": "code",
   "execution_count": 194,
   "metadata": {},
   "outputs": [
    {
     "data": {
      "image/png": "[encoded data removed]",
      "text/plain": [
       "<Figure size 720x432 with 2 Axes>"
      ]
     },
     "metadata": {},
     "output_type": "display_data"
    }
   ],
   "source": [
    "plot_trainable_params_f1(df[df.Dataset == 'tv'].iloc[:,1:])"
   ]
  },
  {
   "cell_type": "code",
   "execution_count": 195,
   "metadata": {},
   "outputs": [
    {
     "data": {
      "image/png": "[encoded data removed]",
      "text/plain": [
       "<Figure size 720x432 with 2 Axes>"
      ]
     },
     "metadata": {},
     "output_type": "display_data"
    }
   ],
   "source": [
    "plot_trainable_params_f1(df[df.Dataset == 'reli'].iloc[:,1:])"
   ]
  }
 ],
 "metadata": {
  "kernelspec": {
   "display_name": "base",
   "language": "python",
   "name": "python3"
  },
  "language_info": {
   "codemirror_mode": {
    "name": "ipython",
    "version": 3
   },
   "file_extension": ".py",
   "mimetype": "text/x-python",
   "name": "python",
   "nbconvert_exporter": "python",
   "pygments_lexer": "ipython3",
   "version": "3.9.7"
  },
  "orig_nbformat": 4
 },
 "nbformat": 4,
 "nbformat_minor": 2
}
