{
 "cells": [
  {
   "cell_type": "code",
   "execution_count": 17,
   "metadata": {
    "collapsed": false
   },
   "outputs": [],
   "source": [
    "import os\n",
    "import json\n",
    "import pandas as pd"
   ]
  },
  {
   "cell_type": "code",
   "execution_count": 18,
   "metadata": {
    "collapsed": false
   },
   "outputs": [],
   "source": [
    "path = '../results/02_bayesian_optimization'"
   ]
  },
  {
   "attachments": {},
   "cell_type": "markdown",
   "metadata": {},
   "source": [
    "# 1. Bayes Optimization Results"
   ]
  },
  {
   "cell_type": "code",
   "execution_count": 19,
   "metadata": {
    "collapsed": false
   },
   "outputs": [],
   "source": [
    "def results_parser(path):\n",
    "\n",
    "    results_df = pd.DataFrame()\n",
    "\n",
    "    for rd in os.listdir(path):\n",
    "\n",
    "        curr_path = os.path.join(path, rd)\n",
    "\n",
    "        # filtrando apenas os diretórios\n",
    "        trials = [\n",
    "            trial \n",
    "            for trial in os.listdir(curr_path) \n",
    "            if '.json' not in trial\n",
    "        ]\n",
    "\n",
    "        # abrindo os resultados de cada tentativa\n",
    "        for trial in trials:\n",
    "            curr_trial = os.path.join(curr_path, trial)\n",
    "\n",
    "            file = os.path.join(curr_path, trial, [\n",
    "                f\n",
    "                for f in os.listdir(curr_trial)\n",
    "                if '.json' in f\n",
    "            ][0])\n",
    "\n",
    "            with open(file, 'r') as f:\n",
    "                curr_result = json.load(f)\n",
    "\n",
    "            result = curr_result['hyperparameters']['values']\n",
    "            result['epochs'] = curr_result['best_step']\n",
    "            result['loss'] = curr_result['score']\n",
    "            result['batch_size'] = int(rd.split('_')[-1])\n",
    "            result['trial'] = int(trial.split('_')[1])\n",
    "\n",
    "            results_df = pd.concat([\n",
    "                results_df,\n",
    "                pd.DataFrame(result, index=[0])\n",
    "            ], ignore_index=True)\n",
    "    \n",
    "    return results_df.sort_values('loss')"
   ]
  },
  {
   "attachments": {},
   "cell_type": "markdown",
   "metadata": {},
   "source": [
    "## 1.1 Pretrain BERT"
   ]
  },
  {
   "attachments": {},
   "cell_type": "markdown",
   "metadata": {},
   "source": [
    "### 1.1.1 Book Reviews"
   ]
  },
  {
   "cell_type": "code",
   "execution_count": 20,
   "metadata": {
    "collapsed": false
   },
   "outputs": [
    {
     "data": {
      "text/html": [
       "<div>\n",
       "<style scoped>\n",
       "    .dataframe tbody tr th:only-of-type {\n",
       "        vertical-align: middle;\n",
       "    }\n",
       "\n",
       "    .dataframe tbody tr th {\n",
       "        vertical-align: top;\n",
       "    }\n",
       "\n",
       "    .dataframe thead th {\n",
       "        text-align: right;\n",
       "    }\n",
       "</style>\n",
       "<table border=\"1\" class=\"dataframe\">\n",
       "  <thead>\n",
       "    <tr style=\"text-align: right;\">\n",
       "      <th></th>\n",
       "      <th>hidden_size</th>\n",
       "      <th>num_hidden_layers</th>\n",
       "      <th>num_attention_heads</th>\n",
       "      <th>intermediate_size</th>\n",
       "      <th>hidden_dropout_prob</th>\n",
       "      <th>learning_rate</th>\n",
       "      <th>epochs</th>\n",
       "      <th>loss</th>\n",
       "      <th>batch_size</th>\n",
       "      <th>trial</th>\n",
       "    </tr>\n",
       "  </thead>\n",
       "  <tbody>\n",
       "    <tr>\n",
       "      <th>51</th>\n",
       "      <td>768</td>\n",
       "      <td>6</td>\n",
       "      <td>4</td>\n",
       "      <td>1024</td>\n",
       "      <td>0.1</td>\n",
       "      <td>0.000067</td>\n",
       "      <td>5</td>\n",
       "      <td>6.372961</td>\n",
       "      <td>8</td>\n",
       "      <td>11</td>\n",
       "    </tr>\n",
       "    <tr>\n",
       "      <th>55</th>\n",
       "      <td>512</td>\n",
       "      <td>8</td>\n",
       "      <td>16</td>\n",
       "      <td>2048</td>\n",
       "      <td>0.2</td>\n",
       "      <td>0.000128</td>\n",
       "      <td>5</td>\n",
       "      <td>6.497189</td>\n",
       "      <td>8</td>\n",
       "      <td>15</td>\n",
       "    </tr>\n",
       "    <tr>\n",
       "      <th>56</th>\n",
       "      <td>512</td>\n",
       "      <td>10</td>\n",
       "      <td>16</td>\n",
       "      <td>2048</td>\n",
       "      <td>0.1</td>\n",
       "      <td>0.000075</td>\n",
       "      <td>5</td>\n",
       "      <td>6.511960</td>\n",
       "      <td>8</td>\n",
       "      <td>16</td>\n",
       "    </tr>\n",
       "    <tr>\n",
       "      <th>4</th>\n",
       "      <td>768</td>\n",
       "      <td>6</td>\n",
       "      <td>4</td>\n",
       "      <td>3072</td>\n",
       "      <td>0.1</td>\n",
       "      <td>0.000124</td>\n",
       "      <td>5</td>\n",
       "      <td>6.531558</td>\n",
       "      <td>16</td>\n",
       "      <td>4</td>\n",
       "    </tr>\n",
       "    <tr>\n",
       "      <th>40</th>\n",
       "      <td>768</td>\n",
       "      <td>8</td>\n",
       "      <td>12</td>\n",
       "      <td>2048</td>\n",
       "      <td>0.2</td>\n",
       "      <td>0.000048</td>\n",
       "      <td>5</td>\n",
       "      <td>6.532318</td>\n",
       "      <td>8</td>\n",
       "      <td>0</td>\n",
       "    </tr>\n",
       "    <tr>\n",
       "      <th>13</th>\n",
       "      <td>768</td>\n",
       "      <td>8</td>\n",
       "      <td>4</td>\n",
       "      <td>3072</td>\n",
       "      <td>0.1</td>\n",
       "      <td>0.000092</td>\n",
       "      <td>5</td>\n",
       "      <td>6.551585</td>\n",
       "      <td>16</td>\n",
       "      <td>13</td>\n",
       "    </tr>\n",
       "    <tr>\n",
       "      <th>57</th>\n",
       "      <td>256</td>\n",
       "      <td>12</td>\n",
       "      <td>4</td>\n",
       "      <td>1024</td>\n",
       "      <td>0.2</td>\n",
       "      <td>0.000120</td>\n",
       "      <td>5</td>\n",
       "      <td>6.638262</td>\n",
       "      <td>8</td>\n",
       "      <td>17</td>\n",
       "    </tr>\n",
       "    <tr>\n",
       "      <th>35</th>\n",
       "      <td>512</td>\n",
       "      <td>8</td>\n",
       "      <td>16</td>\n",
       "      <td>2048</td>\n",
       "      <td>0.3</td>\n",
       "      <td>0.000187</td>\n",
       "      <td>5</td>\n",
       "      <td>6.692791</td>\n",
       "      <td>32</td>\n",
       "      <td>15</td>\n",
       "    </tr>\n",
       "    <tr>\n",
       "      <th>6</th>\n",
       "      <td>512</td>\n",
       "      <td>6</td>\n",
       "      <td>16</td>\n",
       "      <td>3072</td>\n",
       "      <td>0.4</td>\n",
       "      <td>0.000149</td>\n",
       "      <td>5</td>\n",
       "      <td>6.718224</td>\n",
       "      <td>16</td>\n",
       "      <td>6</td>\n",
       "    </tr>\n",
       "    <tr>\n",
       "      <th>50</th>\n",
       "      <td>768</td>\n",
       "      <td>6</td>\n",
       "      <td>12</td>\n",
       "      <td>1024</td>\n",
       "      <td>0.5</td>\n",
       "      <td>0.000041</td>\n",
       "      <td>6</td>\n",
       "      <td>6.751915</td>\n",
       "      <td>8</td>\n",
       "      <td>10</td>\n",
       "    </tr>\n",
       "  </tbody>\n",
       "</table>\n",
       "</div>"
      ],
      "text/plain": [
       "    hidden_size  num_hidden_layers  num_attention_heads  intermediate_size  \\\n",
       "51          768                  6                    4               1024   \n",
       "55          512                  8                   16               2048   \n",
       "56          512                 10                   16               2048   \n",
       "4           768                  6                    4               3072   \n",
       "40          768                  8                   12               2048   \n",
       "13          768                  8                    4               3072   \n",
       "57          256                 12                    4               1024   \n",
       "35          512                  8                   16               2048   \n",
       "6           512                  6                   16               3072   \n",
       "50          768                  6                   12               1024   \n",
       "\n",
       "    hidden_dropout_prob  learning_rate  epochs      loss  batch_size  trial  \n",
       "51                  0.1       0.000067       5  6.372961           8     11  \n",
       "55                  0.2       0.000128       5  6.497189           8     15  \n",
       "56                  0.1       0.000075       5  6.511960           8     16  \n",
       "4                   0.1       0.000124       5  6.531558          16      4  \n",
       "40                  0.2       0.000048       5  6.532318           8      0  \n",
       "13                  0.1       0.000092       5  6.551585          16     13  \n",
       "57                  0.2       0.000120       5  6.638262           8     17  \n",
       "35                  0.3       0.000187       5  6.692791          32     15  \n",
       "6                   0.4       0.000149       5  6.718224          16      6  \n",
       "50                  0.5       0.000041       6  6.751915           8     10  "
      ]
     },
     "execution_count": 20,
     "metadata": {},
     "output_type": "execute_result"
    }
   ],
   "source": [
    "# top 10 melhores resultados (bert com book reviews)\n",
    "results_lit_review = results_parser(f'{path}/bert/book_reviews')\n",
    "results_lit_review.head(10)"
   ]
  },
  {
   "cell_type": "code",
   "execution_count": 21,
   "metadata": {
    "collapsed": true
   },
   "outputs": [
    {
     "data": {
      "text/html": [
       "<div>\n",
       "<style scoped>\n",
       "    .dataframe tbody tr th:only-of-type {\n",
       "        vertical-align: middle;\n",
       "    }\n",
       "\n",
       "    .dataframe tbody tr th {\n",
       "        vertical-align: top;\n",
       "    }\n",
       "\n",
       "    .dataframe thead tr th {\n",
       "        text-align: left;\n",
       "    }\n",
       "\n",
       "    .dataframe thead tr:last-of-type th {\n",
       "        text-align: right;\n",
       "    }\n",
       "</style>\n",
       "<table border=\"1\" class=\"dataframe\">\n",
       "  <thead>\n",
       "    <tr>\n",
       "      <th></th>\n",
       "      <th colspan=\"3\" halign=\"left\">loss</th>\n",
       "    </tr>\n",
       "    <tr>\n",
       "      <th></th>\n",
       "      <th>mean</th>\n",
       "      <th>std</th>\n",
       "      <th>median</th>\n",
       "    </tr>\n",
       "    <tr>\n",
       "      <th>batch_size</th>\n",
       "      <th></th>\n",
       "      <th></th>\n",
       "      <th></th>\n",
       "    </tr>\n",
       "  </thead>\n",
       "  <tbody>\n",
       "    <tr>\n",
       "      <th>8</th>\n",
       "      <td>6.862437</td>\n",
       "      <td>0.252776</td>\n",
       "      <td>6.936142</td>\n",
       "    </tr>\n",
       "    <tr>\n",
       "      <th>16</th>\n",
       "      <td>6.984916</td>\n",
       "      <td>0.204720</td>\n",
       "      <td>7.097733</td>\n",
       "    </tr>\n",
       "    <tr>\n",
       "      <th>32</th>\n",
       "      <td>7.015485</td>\n",
       "      <td>0.121421</td>\n",
       "      <td>7.053308</td>\n",
       "    </tr>\n",
       "  </tbody>\n",
       "</table>\n",
       "</div>"
      ],
      "text/plain": [
       "                loss                    \n",
       "                mean       std    median\n",
       "batch_size                              \n",
       "8           6.862437  0.252776  6.936142\n",
       "16          6.984916  0.204720  7.097733\n",
       "32          7.015485  0.121421  7.053308"
      ]
     },
     "execution_count": 21,
     "metadata": {},
     "output_type": "execute_result"
    }
   ],
   "source": [
    "# média de resultado por batch_size e arquitetura (bert com book reviews)\n",
    "results_lit_review.groupby(\n",
    "    ['batch_size']\n",
    ").agg(\n",
    "    {'loss': ['mean', 'std', 'median']}\n",
    ").sort_values(['batch_size'])"
   ]
  },
  {
   "attachments": {},
   "cell_type": "markdown",
   "metadata": {},
   "source": [
    "### 1.1.2 TV"
   ]
  },
  {
   "cell_type": "code",
   "execution_count": 22,
   "metadata": {},
   "outputs": [
    {
     "data": {
      "text/html": [
       "<div>\n",
       "<style scoped>\n",
       "    .dataframe tbody tr th:only-of-type {\n",
       "        vertical-align: middle;\n",
       "    }\n",
       "\n",
       "    .dataframe tbody tr th {\n",
       "        vertical-align: top;\n",
       "    }\n",
       "\n",
       "    .dataframe thead th {\n",
       "        text-align: right;\n",
       "    }\n",
       "</style>\n",
       "<table border=\"1\" class=\"dataframe\">\n",
       "  <thead>\n",
       "    <tr style=\"text-align: right;\">\n",
       "      <th></th>\n",
       "      <th>hidden_size</th>\n",
       "      <th>num_hidden_layers</th>\n",
       "      <th>num_attention_heads</th>\n",
       "      <th>intermediate_size</th>\n",
       "      <th>hidden_dropout_prob</th>\n",
       "      <th>learning_rate</th>\n",
       "      <th>epochs</th>\n",
       "      <th>loss</th>\n",
       "      <th>batch_size</th>\n",
       "      <th>trial</th>\n",
       "    </tr>\n",
       "  </thead>\n",
       "  <tbody>\n",
       "    <tr>\n",
       "      <th>21</th>\n",
       "      <td>768</td>\n",
       "      <td>6</td>\n",
       "      <td>12</td>\n",
       "      <td>1024</td>\n",
       "      <td>0.2</td>\n",
       "      <td>0.000102</td>\n",
       "      <td>9</td>\n",
       "      <td>3.492996</td>\n",
       "      <td>32</td>\n",
       "      <td>1</td>\n",
       "    </tr>\n",
       "    <tr>\n",
       "      <th>34</th>\n",
       "      <td>768</td>\n",
       "      <td>6</td>\n",
       "      <td>16</td>\n",
       "      <td>1024</td>\n",
       "      <td>0.4</td>\n",
       "      <td>0.000093</td>\n",
       "      <td>8</td>\n",
       "      <td>5.046766</td>\n",
       "      <td>32</td>\n",
       "      <td>14</td>\n",
       "    </tr>\n",
       "    <tr>\n",
       "      <th>54</th>\n",
       "      <td>512</td>\n",
       "      <td>10</td>\n",
       "      <td>4</td>\n",
       "      <td>2048</td>\n",
       "      <td>0.1</td>\n",
       "      <td>0.000040</td>\n",
       "      <td>7</td>\n",
       "      <td>5.071844</td>\n",
       "      <td>8</td>\n",
       "      <td>14</td>\n",
       "    </tr>\n",
       "    <tr>\n",
       "      <th>49</th>\n",
       "      <td>512</td>\n",
       "      <td>10</td>\n",
       "      <td>16</td>\n",
       "      <td>3072</td>\n",
       "      <td>0.1</td>\n",
       "      <td>0.000047</td>\n",
       "      <td>7</td>\n",
       "      <td>5.131644</td>\n",
       "      <td>8</td>\n",
       "      <td>9</td>\n",
       "    </tr>\n",
       "    <tr>\n",
       "      <th>9</th>\n",
       "      <td>768</td>\n",
       "      <td>10</td>\n",
       "      <td>12</td>\n",
       "      <td>2048</td>\n",
       "      <td>0.3</td>\n",
       "      <td>0.000038</td>\n",
       "      <td>7</td>\n",
       "      <td>5.411859</td>\n",
       "      <td>16</td>\n",
       "      <td>9</td>\n",
       "    </tr>\n",
       "    <tr>\n",
       "      <th>20</th>\n",
       "      <td>256</td>\n",
       "      <td>10</td>\n",
       "      <td>16</td>\n",
       "      <td>1024</td>\n",
       "      <td>0.2</td>\n",
       "      <td>0.000336</td>\n",
       "      <td>6</td>\n",
       "      <td>5.417662</td>\n",
       "      <td>32</td>\n",
       "      <td>0</td>\n",
       "    </tr>\n",
       "    <tr>\n",
       "      <th>11</th>\n",
       "      <td>512</td>\n",
       "      <td>12</td>\n",
       "      <td>16</td>\n",
       "      <td>1024</td>\n",
       "      <td>0.4</td>\n",
       "      <td>0.000094</td>\n",
       "      <td>6</td>\n",
       "      <td>5.459514</td>\n",
       "      <td>16</td>\n",
       "      <td>11</td>\n",
       "    </tr>\n",
       "    <tr>\n",
       "      <th>13</th>\n",
       "      <td>256</td>\n",
       "      <td>12</td>\n",
       "      <td>16</td>\n",
       "      <td>1024</td>\n",
       "      <td>0.4</td>\n",
       "      <td>0.000162</td>\n",
       "      <td>7</td>\n",
       "      <td>5.517826</td>\n",
       "      <td>16</td>\n",
       "      <td>13</td>\n",
       "    </tr>\n",
       "    <tr>\n",
       "      <th>40</th>\n",
       "      <td>768</td>\n",
       "      <td>6</td>\n",
       "      <td>4</td>\n",
       "      <td>1024</td>\n",
       "      <td>0.4</td>\n",
       "      <td>0.000041</td>\n",
       "      <td>5</td>\n",
       "      <td>5.533927</td>\n",
       "      <td>8</td>\n",
       "      <td>0</td>\n",
       "    </tr>\n",
       "    <tr>\n",
       "      <th>43</th>\n",
       "      <td>256</td>\n",
       "      <td>8</td>\n",
       "      <td>4</td>\n",
       "      <td>1024</td>\n",
       "      <td>0.2</td>\n",
       "      <td>0.000050</td>\n",
       "      <td>7</td>\n",
       "      <td>5.630235</td>\n",
       "      <td>8</td>\n",
       "      <td>3</td>\n",
       "    </tr>\n",
       "  </tbody>\n",
       "</table>\n",
       "</div>"
      ],
      "text/plain": [
       "    hidden_size  num_hidden_layers  num_attention_heads  intermediate_size  \\\n",
       "21          768                  6                   12               1024   \n",
       "34          768                  6                   16               1024   \n",
       "54          512                 10                    4               2048   \n",
       "49          512                 10                   16               3072   \n",
       "9           768                 10                   12               2048   \n",
       "20          256                 10                   16               1024   \n",
       "11          512                 12                   16               1024   \n",
       "13          256                 12                   16               1024   \n",
       "40          768                  6                    4               1024   \n",
       "43          256                  8                    4               1024   \n",
       "\n",
       "    hidden_dropout_prob  learning_rate  epochs      loss  batch_size  trial  \n",
       "21                  0.2       0.000102       9  3.492996          32      1  \n",
       "34                  0.4       0.000093       8  5.046766          32     14  \n",
       "54                  0.1       0.000040       7  5.071844           8     14  \n",
       "49                  0.1       0.000047       7  5.131644           8      9  \n",
       "9                   0.3       0.000038       7  5.411859          16      9  \n",
       "20                  0.2       0.000336       6  5.417662          32      0  \n",
       "11                  0.4       0.000094       6  5.459514          16     11  \n",
       "13                  0.4       0.000162       7  5.517826          16     13  \n",
       "40                  0.4       0.000041       5  5.533927           8      0  \n",
       "43                  0.2       0.000050       7  5.630235           8      3  "
      ]
     },
     "execution_count": 22,
     "metadata": {},
     "output_type": "execute_result"
    }
   ],
   "source": [
    "# top 10 melhores resultados (bert com tv reviews)\n",
    "results_tv_review = results_parser(f'{path}/bert/tv_reviews')\n",
    "results_tv_review.head(10)"
   ]
  },
  {
   "cell_type": "code",
   "execution_count": 23,
   "metadata": {},
   "outputs": [
    {
     "data": {
      "text/html": [
       "<div>\n",
       "<style scoped>\n",
       "    .dataframe tbody tr th:only-of-type {\n",
       "        vertical-align: middle;\n",
       "    }\n",
       "\n",
       "    .dataframe tbody tr th {\n",
       "        vertical-align: top;\n",
       "    }\n",
       "\n",
       "    .dataframe thead tr th {\n",
       "        text-align: left;\n",
       "    }\n",
       "\n",
       "    .dataframe thead tr:last-of-type th {\n",
       "        text-align: right;\n",
       "    }\n",
       "</style>\n",
       "<table border=\"1\" class=\"dataframe\">\n",
       "  <thead>\n",
       "    <tr>\n",
       "      <th></th>\n",
       "      <th colspan=\"3\" halign=\"left\">loss</th>\n",
       "    </tr>\n",
       "    <tr>\n",
       "      <th></th>\n",
       "      <th>mean</th>\n",
       "      <th>std</th>\n",
       "      <th>median</th>\n",
       "    </tr>\n",
       "    <tr>\n",
       "      <th>batch_size</th>\n",
       "      <th></th>\n",
       "      <th></th>\n",
       "      <th></th>\n",
       "    </tr>\n",
       "  </thead>\n",
       "  <tbody>\n",
       "    <tr>\n",
       "      <th>8</th>\n",
       "      <td>6.225119</td>\n",
       "      <td>0.648824</td>\n",
       "      <td>6.593739</td>\n",
       "    </tr>\n",
       "    <tr>\n",
       "      <th>16</th>\n",
       "      <td>6.325825</td>\n",
       "      <td>0.612352</td>\n",
       "      <td>6.773590</td>\n",
       "    </tr>\n",
       "    <tr>\n",
       "      <th>32</th>\n",
       "      <td>5.851689</td>\n",
       "      <td>0.902379</td>\n",
       "      <td>5.848976</td>\n",
       "    </tr>\n",
       "  </tbody>\n",
       "</table>\n",
       "</div>"
      ],
      "text/plain": [
       "                loss                    \n",
       "                mean       std    median\n",
       "batch_size                              \n",
       "8           6.225119  0.648824  6.593739\n",
       "16          6.325825  0.612352  6.773590\n",
       "32          5.851689  0.902379  5.848976"
      ]
     },
     "execution_count": 23,
     "metadata": {},
     "output_type": "execute_result"
    }
   ],
   "source": [
    "# média de resultado por batch_size e arquitetura (bert com tv reviews)\n",
    "results_tv_review.groupby(\n",
    "    ['batch_size']\n",
    ").agg(\n",
    "    {'loss': ['mean', 'std', 'median']}\n",
    ").sort_values(['batch_size'])"
   ]
  },
  {
   "attachments": {},
   "cell_type": "markdown",
   "metadata": {},
   "source": [
    "## 1.2 Fine Tuning"
   ]
  },
  {
   "cell_type": "code",
   "execution_count": 24,
   "metadata": {},
   "outputs": [],
   "source": [
    "def read_json(path: str) -> dict:\n",
    "    \"\"\"Reads a json file and returns a dictionary.\n",
    "    \n",
    "    Args:\n",
    "        path: path to the json file\n",
    "\n",
    "    Returns:\n",
    "        dictionary with the contents of the json file\n",
    "    \"\"\"\n",
    "    with open(path, \"r\") as f:\n",
    "        return json.load(f)\n",
    "\n",
    "\n",
    "def best_hyperparams(results: dict) -> dict:\n",
    "    \"\"\"Returns the best hyperparameters based on the F1 score.\n",
    "    \n",
    "    Args:\n",
    "        results (dict): Dictionary with the results of the hyperparameter \n",
    "                        optimization.\n",
    "\n",
    "    Returns:\n",
    "        dict: Dictionary with the best hyperparameters.\n",
    "    \"\"\"\n",
    "    best_values = {\n",
    "        'trial': None,\n",
    "        'F1': 0,\n",
    "    }\n",
    "    for trial, result in results.items():\n",
    "        if result['value'] > best_values['F1']:\n",
    "            best_values['trial'] = trial\n",
    "            best_values['F1'] = result['value']\n",
    "\n",
    "    print(f'Best trial: {best_values[\"trial\"]}.')\n",
    "\n",
    "    return results[best_values['trial']]"
   ]
  },
  {
   "attachments": {},
   "cell_type": "markdown",
   "metadata": {},
   "source": [
    "### 1.2.2 TV"
   ]
  },
  {
   "attachments": {},
   "cell_type": "markdown",
   "metadata": {},
   "source": [
    "**TODO: colocar a imagem da arquitetura aqui, para ficar mais claro.**"
   ]
  },
  {
   "cell_type": "code",
   "execution_count": 33,
   "metadata": {},
   "outputs": [
    {
     "name": "stdout",
     "output_type": "stream",
     "text": [
      "Best trial: trial_5.\n"
     ]
    },
    {
     "data": {
      "text/plain": [
       "{'dropout_rate': 0.30000000000000004,\n",
       " 'learning_rate': 4.356405490340622e-05,\n",
       " 'value': 0.8242424242424243}"
      ]
     },
     "execution_count": 33,
     "metadata": {},
     "output_type": "execute_result"
    }
   ],
   "source": [
    "# procurando qual tentativa apresentou o melhor desempenho\n",
    "tv_results1 = read_json(f'{path}/fine_tuning/tv/baseline_aspect_extraction.json')\n",
    "best_hyperparams(tv_results1)"
   ]
  },
  {
   "attachments": {},
   "cell_type": "markdown",
   "metadata": {},
   "source": [
    "**TODO: colocar a imagem da arquitetura aqui, para ficar mais claro.**"
   ]
  },
  {
   "cell_type": "code",
   "execution_count": 26,
   "metadata": {},
   "outputs": [
    {
     "name": "stdout",
     "output_type": "stream",
     "text": [
      "Best trial: trial_9.\n"
     ]
    },
    {
     "data": {
      "text/plain": [
       "{'dropout_rate': 0.5,\n",
       " 'learning_rate': 0.00015039796790289732,\n",
       " 'value': 0.7440944881889764}"
      ]
     },
     "execution_count": 26,
     "metadata": {},
     "output_type": "execute_result"
    }
   ],
   "source": [
    "# procurando qual tentativa apresentou o melhor desempenho\n",
    "tv_results2 = read_json(f'{path}/fine_tuning/tv/bert_visio.json')\n",
    "best_hyperparams(tv_results2)"
   ]
  },
  {
   "attachments": {},
   "cell_type": "markdown",
   "metadata": {},
   "source": [
    "**TODO: colocar a imagem da arquitetura aqui, para ficar mais claro.**"
   ]
  },
  {
   "cell_type": "code",
   "execution_count": 27,
   "metadata": {},
   "outputs": [
    {
     "name": "stdout",
     "output_type": "stream",
     "text": [
      "Best trial: trial_10.\n"
     ]
    },
    {
     "data": {
      "text/plain": [
       "{'dropout_rate': 0.30000000000000004,\n",
       " 'learning_rate': 2.0863364780543777e-05,\n",
       " 'value': 0.8501026694045174}"
      ]
     },
     "execution_count": 27,
     "metadata": {},
     "output_type": "execute_result"
    }
   ],
   "source": [
    "# procurando qual tentativa apresentou o melhor desempenho\n",
    "tv_results3 = read_json(f'{path}/fine_tuning/tv/double_bert_aspect_extraction.json')\n",
    "best_hyperparams(tv_results3)"
   ]
  },
  {
   "attachments": {},
   "cell_type": "markdown",
   "metadata": {},
   "source": [
    "**TODO: colocar a imagem da arquitetura aqui, para ficar mais claro.**"
   ]
  },
  {
   "cell_type": "code",
   "execution_count": 28,
   "metadata": {},
   "outputs": [
    {
     "name": "stdout",
     "output_type": "stream",
     "text": [
      "Best trial: trial_13.\n"
     ]
    },
    {
     "data": {
      "text/plain": [
       "{'dropout_rate': 0.4,\n",
       " 'first_layer_units': 768,\n",
       " 'second_layer_units': 1536,\n",
       " 'third_layer_units': None,\n",
       " 'learning_rate': 2.001383160164505e-05,\n",
       " 'value': 0.830188679245283}"
      ]
     },
     "execution_count": 28,
     "metadata": {},
     "output_type": "execute_result"
    }
   ],
   "source": [
    "# procurando qual tentativa apresentou o melhor desempenho\n",
    "tv_results4 = read_json(f'{path}/fine_tuning/tv/double_bert_ffn_aspect_extraction.json')\n",
    "best_hyperparams(tv_results4)"
   ]
  },
  {
   "attachments": {},
   "cell_type": "markdown",
   "metadata": {},
   "source": [
    "### 1.2.3 ReLi"
   ]
  },
  {
   "cell_type": "code",
   "execution_count": 35,
   "metadata": {},
   "outputs": [
    {
     "name": "stdout",
     "output_type": "stream",
     "text": [
      "Best trial: trial_9.\n"
     ]
    },
    {
     "data": {
      "text/plain": [
       "{'dropout_rate': 0.1, 'learning_rate': 2e-05, 'value': 0.602}"
      ]
     },
     "execution_count": 35,
     "metadata": {},
     "output_type": "execute_result"
    }
   ],
   "source": [
    "# procurando qual tentativa apresentou o melhor desempenho\n",
    "reli_results1 = read_json(f'{path}/fine_tuning/reli/baseline_aspect_extraction.json')\n",
    "best_hyperparams(reli_results1)"
   ]
  },
  {
   "cell_type": "code",
   "execution_count": 30,
   "metadata": {},
   "outputs": [
    {
     "name": "stdout",
     "output_type": "stream",
     "text": [
      "Best trial: trial_8.\n"
     ]
    },
    {
     "data": {
      "text/plain": [
       "{'dropout_rate': 0.5,\n",
       " 'learning_rate': 3.282787355738218e-05,\n",
       " 'value': 0.4633333333333333}"
      ]
     },
     "execution_count": 30,
     "metadata": {},
     "output_type": "execute_result"
    }
   ],
   "source": [
    "# procurando qual tentativa apresentou o melhor desempenho\n",
    "reli_results2 = read_json(f'{path}/fine_tuning/reli/litera_bert.json')\n",
    "best_hyperparams(reli_results2)"
   ]
  },
  {
   "cell_type": "code",
   "execution_count": 31,
   "metadata": {},
   "outputs": [
    {
     "name": "stdout",
     "output_type": "stream",
     "text": [
      "Best trial: trial_9.\n"
     ]
    },
    {
     "data": {
      "text/plain": [
       "{'dropout_raNonete': 0.5,\n",
       " 'learning_rate': 2.6417102416521368e-05,\n",
       " 'value': 0.6220735785953178}"
      ]
     },
     "execution_count": 31,
     "metadata": {},
     "output_type": "execute_result"
    }
   ],
   "source": [
    "# procurando qual tentativa apresentou o melhor desempenho\n",
    "reli_results3 = read_json(f'{path}/fine_tuning/reli/double_bert_aspect_extraction.json')\n",
    "best_hyperparams(reli_results3)"
   ]
  },
  {
   "cell_type": "code",
   "execution_count": 32,
   "metadata": {},
   "outputs": [
    {
     "name": "stdout",
     "output_type": "stream",
     "text": [
      "Best trial: trial_9.\n"
     ]
    },
    {
     "data": {
      "text/plain": [
       "{'dropout_rate': 0.0,\n",
       " 'first_layer_units': 256,\n",
       " 'second_layer_units': 512,\n",
       " 'third_layer_units': 768,\n",
       " 'learning_rate': 3.8534252343702257e-05,\n",
       " 'value': 0.4692737430167598}"
      ]
     },
     "execution_count": 32,
     "metadata": {},
     "output_type": "execute_result"
    }
   ],
   "source": [
    "# procurando qual tentativa apresentou o melhor desempenho\n",
    "reli_results4 = read_json(f'{path}/fine_tuning/reli/double_bert_ffn_aspect_extraction.json')\n",
    "best_hyperparams(reli_results4)"
   ]
  }
 ],
 "metadata": {
  "kernelspec": {
   "display_name": "Python 3",
   "language": "python",
   "name": "python3"
  },
  "language_info": {
   "codemirror_mode": {
    "name": "ipython",
    "version": 3
   },
   "file_extension": ".py",
   "mimetype": "text/x-python",
   "name": "python",
   "nbconvert_exporter": "python",
   "pygments_lexer": "ipython3",
   "version": "3.9.7"
  }
 },
 "nbformat": 4,
 "nbformat_minor": 0
}
