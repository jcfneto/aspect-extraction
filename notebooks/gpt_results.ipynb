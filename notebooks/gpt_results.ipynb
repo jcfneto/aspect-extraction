{
 "cells": [
  {
   "cell_type": "code",
   "execution_count": 1,
   "metadata": {},
   "outputs": [],
   "source": [
    "from ast import literal_eval\n",
    "import pandas as pd"
   ]
  },
  {
   "cell_type": "code",
   "execution_count": 2,
   "metadata": {},
   "outputs": [
    {
     "data": {
      "text/html": [
       "<div>\n",
       "<style scoped>\n",
       "    .dataframe tbody tr th:only-of-type {\n",
       "        vertical-align: middle;\n",
       "    }\n",
       "\n",
       "    .dataframe tbody tr th {\n",
       "        vertical-align: top;\n",
       "    }\n",
       "\n",
       "    .dataframe thead th {\n",
       "        text-align: right;\n",
       "    }\n",
       "</style>\n",
       "<table border=\"1\" class=\"dataframe\">\n",
       "  <thead>\n",
       "    <tr style=\"text-align: right;\">\n",
       "      <th></th>\n",
       "      <th>review</th>\n",
       "      <th>aspects</th>\n",
       "      <th>ada_results</th>\n",
       "      <th>babbage_results</th>\n",
       "      <th>curie_results</th>\n",
       "      <th>gpt_3_5_results</th>\n",
       "    </tr>\n",
       "  </thead>\n",
       "  <tbody>\n",
       "    <tr>\n",
       "      <th>0</th>\n",
       "      <td>Recomendo, uma otima smart é sansung nao preci...</td>\n",
       "      <td>[smart]</td>\n",
       "      <td>[smart]</td>\n",
       "      <td>[smart]</td>\n",
       "      <td>[smart]</td>\n",
       "      <td>[Desculpe, mas não posso fornecer uma opinião ...</td>\n",
       "    </tr>\n",
       "    <tr>\n",
       "      <th>1</th>\n",
       "      <td>TV muito boa atendeu as expectativas , ótima p...</td>\n",
       "      <td>[tv]</td>\n",
       "      <td>[tv]</td>\n",
       "      <td>[tv]</td>\n",
       "      <td>[tv]</td>\n",
       "      <td>[tv]</td>\n",
       "    </tr>\n",
       "    <tr>\n",
       "      <th>2</th>\n",
       "      <td>Bom produto, mas o som realmente deixa muito a...</td>\n",
       "      <td>[produto, som, som, base]</td>\n",
       "      <td>[produto, som, som]</td>\n",
       "      <td>[produto, som, som, som, som]</td>\n",
       "      <td>[produto, som, som]</td>\n",
       "      <td>[produto, som, som, base]</td>\n",
       "    </tr>\n",
       "    <tr>\n",
       "      <th>3</th>\n",
       "      <td>Excelente produto. Estou satisfeita. Chegou an...</td>\n",
       "      <td>[produto, serviço]</td>\n",
       "      <td>[produto, sendeçom]</td>\n",
       "      <td>[produto, serviço]</td>\n",
       "      <td>[produto, serviço]</td>\n",
       "      <td>[produto, serviço]</td>\n",
       "    </tr>\n",
       "    <tr>\n",
       "      <th>4</th>\n",
       "      <td>Avalio a compra como positiva. Poderia ter um ...</td>\n",
       "      <td>[som, imagem]</td>\n",
       "      <td>[som, imagem, brilho]</td>\n",
       "      <td>[som, imagem, brilho, tv]</td>\n",
       "      <td>[compra, som, imagem, som]</td>\n",
       "      <td>[som, imagem, imagem, recurso]</td>\n",
       "    </tr>\n",
       "  </tbody>\n",
       "</table>\n",
       "</div>"
      ],
      "text/plain": [
       "                                              review  \\\n",
       "0  Recomendo, uma otima smart é sansung nao preci...   \n",
       "1  TV muito boa atendeu as expectativas , ótima p...   \n",
       "2  Bom produto, mas o som realmente deixa muito a...   \n",
       "3  Excelente produto. Estou satisfeita. Chegou an...   \n",
       "4  Avalio a compra como positiva. Poderia ter um ...   \n",
       "\n",
       "                     aspects            ada_results  \\\n",
       "0                    [smart]                [smart]   \n",
       "1                       [tv]                   [tv]   \n",
       "2  [produto, som, som, base]    [produto, som, som]   \n",
       "3         [produto, serviço]    [produto, sendeçom]   \n",
       "4              [som, imagem]  [som, imagem, brilho]   \n",
       "\n",
       "                 babbage_results               curie_results  \\\n",
       "0                        [smart]                     [smart]   \n",
       "1                           [tv]                        [tv]   \n",
       "2  [produto, som, som, som, som]         [produto, som, som]   \n",
       "3             [produto, serviço]          [produto, serviço]   \n",
       "4      [som, imagem, brilho, tv]  [compra, som, imagem, som]   \n",
       "\n",
       "                                     gpt_3_5_results  \n",
       "0  [Desculpe, mas não posso fornecer uma opinião ...  \n",
       "1                                               [tv]  \n",
       "2                          [produto, som, som, base]  \n",
       "3                                 [produto, serviço]  \n",
       "4                     [som, imagem, imagem, recurso]  "
      ]
     },
     "execution_count": 2,
     "metadata": {},
     "output_type": "execute_result"
    }
   ],
   "source": [
    "results = (\n",
    "    pd.read_csv('../datasets/gpt/tv/test.csv')\n",
    "    .rename(\n",
    "        columns={'explicit aspects': 'aspects'}\n",
    "    )\n",
    ")\n",
    "\n",
    "gpt_results = results.columns[2:]\n",
    "\n",
    "for col in ['aspects'] + gpt_results.tolist():\n",
    "    results[col] = results[col].apply(literal_eval)\n",
    "\n",
    "results.head()"
   ]
  },
  {
   "cell_type": "code",
   "execution_count": 3,
   "metadata": {},
   "outputs": [],
   "source": [
    "# se está em GPT_RESULTS e está em ASPECTS: TP\n",
    "def true_positive(y_true, y_pred):\n",
    "    tp = 0\n",
    "    y_true = set(y_true)\n",
    "    y_pred = set(y_pred)\n",
    "    for each in y_pred:\n",
    "        if each in y_true:\n",
    "            tp += 1\n",
    "    return tp\n",
    "\n",
    "# se está em GPT_RESULTS e NÃO está em ASPECTS: FP\n",
    "def false_positive(y_true, y_pred):\n",
    "    fp = 0\n",
    "    y_true = set(y_true)\n",
    "    y_pred = set(y_pred)\n",
    "    for each in y_pred:\n",
    "        if each not in y_true:\n",
    "            fp += 1\n",
    "    return fp\n",
    "\n",
    "# se está em ASPECTS e NÃO está em GPT_RESULTS: FN\n",
    "def false_negative(y_true, y_pred):\n",
    "    fn = 0\n",
    "    y_true = set(y_true)\n",
    "    y_pred = set(y_pred)\n",
    "    for each in y_true:\n",
    "        if each not in y_pred:\n",
    "            fn += 1\n",
    "    return fn"
   ]
  },
  {
   "cell_type": "code",
   "execution_count": 4,
   "metadata": {},
   "outputs": [],
   "source": [
    "def compute(data, by, func):\n",
    "    return data.apply(lambda x: func(x['aspects'], x['curie_results']))"
   ]
  },
  {
   "cell_type": "code",
   "execution_count": 5,
   "metadata": {},
   "outputs": [],
   "source": [
    "def precision(tp, fp):\n",
    "    return tp / (tp + fp)\n",
    "\n",
    "def recall(tp, fn):\n",
    "    return tp / (tp + fn)\n",
    "\n",
    "def f1_score(precision, recall):\n",
    "    return 2 * (precision * recall) / (precision + recall)"
   ]
  },
  {
   "cell_type": "code",
   "execution_count": 6,
   "metadata": {},
   "outputs": [
    {
     "name": "stdout",
     "output_type": "stream",
     "text": [
      "ada_results -> p = 0.7627, r = 0.8000, f1 = 0.7809\n",
      "babbage_results -> p = 0.7787, r = 0.8133, f1 = 0.7957\n",
      "curie_results -> p = 0.7530, r = 0.8400, f1 = 0.7941\n",
      "gpt_3_5_results -> p = 0.7019, r = 0.6489, f1 = 0.6744\n"
     ]
    }
   ],
   "source": [
    "for gpt in gpt_results:\n",
    "\n",
    "    tp, fp, fn = 0, 0, 0\n",
    "    for _, row in results.iterrows():\n",
    "        y_true, y_pred = row['aspects'], row[gpt]\n",
    "        tp += true_positive(y_true, y_pred)\n",
    "        fp += false_positive(y_true, y_pred)\n",
    "        fn += false_negative(y_true, y_pred)\n",
    "\n",
    "    p = precision(tp, fp)\n",
    "    r = recall(tp, fn)\n",
    "    f1 = f1_score(p, r)\n",
    "\n",
    "    print(f'{gpt} -> p = {p:.4f}, r = {r:.4f}, f1 = {f1:.4f}')"
   ]
  }
 ],
 "metadata": {
  "kernelspec": {
   "display_name": "base",
   "language": "python",
   "name": "python3"
  },
  "language_info": {
   "codemirror_mode": {
    "name": "ipython",
    "version": 3
   },
   "file_extension": ".py",
   "mimetype": "text/x-python",
   "name": "python",
   "nbconvert_exporter": "python",
   "pygments_lexer": "ipython3",
   "version": "3.9.7"
  },
  "orig_nbformat": 4
 },
 "nbformat": 4,
 "nbformat_minor": 2
}
