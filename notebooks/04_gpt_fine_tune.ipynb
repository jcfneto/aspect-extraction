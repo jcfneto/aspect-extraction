{
 "cells": [
  {
   "cell_type": "code",
   "execution_count": null,
   "metadata": {},
   "outputs": [],
   "source": [
    "import os\n",
    "import time\n",
    "from ast import literal_eval\n",
    "\n",
    "from dotenv import load_dotenv\n",
    "import openai\n",
    "import polars as pl\n",
    "\n",
    "\n",
    "load_dotenv()\n",
    "\n",
    "openai.api_key = os.getenv(\"OPENAI_API_KEY\")"
   ]
  },
  {
   "cell_type": "code",
   "execution_count": null,
   "metadata": {},
   "outputs": [],
   "source": [
    "def save_fold_csv(path: str, folds: list, output_filename: str) -> None:\n",
    "    \"\"\"Save a csv file with the data from the folds specified in the list.\n",
    "\n",
    "    Args:\n",
    "        path (str): path to the csv file.\n",
    "        folds (list): list of folds to be saved.\n",
    "        output_filename (str): name of the output file.\n",
    "    \n",
    "    Returns:\n",
    "        None\n",
    "    \"\"\"\n",
    "    data = (\n",
    "        pl.read_csv(path)\n",
    "        .filter(\n",
    "            pl.col('fold').is_in(folds)\n",
    "        )\n",
    "        .select(\n",
    "            'review',\n",
    "            'explicit aspects',\n",
    "        )\n",
    "        .rename({\n",
    "            'review': 'prompt',\n",
    "            'explicit aspects': 'completion'\n",
    "        })\n",
    "        .with_columns(\n",
    "            pl.col('completion').apply(lambda x: literal_eval(x))\n",
    "        )\n",
    "        .with_columns(\n",
    "            pl.col('completion').apply(lambda x: '\\n'.join(x))\n",
    "        )\n",
    "    )\n",
    "\n",
    "    data.write_csv(output_filename)\n",
    "\n",
    "\n",
    "def upload_file(path: str) -> dict:\n",
    "    \"\"\"Prepare the data and upload it to OpenAI.\n",
    "\n",
    "    Args:\n",
    "        path (str): path to the csv file.\n",
    "\n",
    "    Returns:\n",
    "        response (dict): response from the OpenAI API.    \n",
    "    \"\"\"\n",
    "    response = openai.File.create(\n",
    "      file=open(path, 'rb'),\n",
    "      purpose='fine-tune'\n",
    "    )\n",
    "    return response\n",
    "\n",
    "\n",
    "def create_fine_tune(file_id: str, params: dict) -> dict:\n",
    "    \"\"\"Create a fine-tuning job.\n",
    "\n",
    "    Args:\n",
    "        file_id (str): id of the file to be used for fine-tuning.\n",
    "        params (dict): parameters for the fine-tuning job.\n",
    "    \n",
    "    Returns:\n",
    "        response (dict): response from the OpenAI API.\n",
    "    \"\"\"\n",
    "    response = openai.FineTune.create(\n",
    "        training_file=file_id,\n",
    "        **params\n",
    "      )\n",
    "    return response\n",
    "\n",
    "\n",
    "def monitor_fine_tune(model_id: str) -> None:\n",
    "    \"\"\"Monitor the fine-tuning job.\n",
    "    \n",
    "    Args:\n",
    "        model_id (str): id of the fine-tuning job.\n",
    "    \n",
    "    Returns:\n",
    "        None\n",
    "    \"\"\"\n",
    "    start = time.time()\n",
    "    while True:\n",
    "        fine_tuning_status = openai.FineTune.retrieve(model_id)\n",
    "        status = fine_tuning_status[\"status\"]\n",
    "        print(f\"Fine-tuning job status: {status}\")\n",
    "\n",
    "        if status in ['succeeded', 'failed']:\n",
    "            break\n",
    "\n",
    "        time.sleep(60)\n",
    "    \n",
    "    print(f\"Time elapsed: {(time.time() - start)/60} minutes.\")"
   ]
  },
  {
   "cell_type": "code",
   "execution_count": null,
   "metadata": {},
   "outputs": [],
   "source": [
    "# salvando os csvs com os dados preparados\n",
    "path = '../datasets/stratified/tv.csv'\n",
    "\n",
    "save_fold_csv(path, folds=list(range(1, 10)), output_filename='train.csv')\n",
    "# save_fold_csv(path, folds=[10], output_filename='test.csv')"
   ]
  },
  {
   "cell_type": "code",
   "execution_count": null,
   "metadata": {},
   "outputs": [],
   "source": [
    "# enviando para a openai\n",
    "file = upload_file('...')\n",
    "file_id = file['id']\n",
    "file_id"
   ]
  },
  {
   "cell_type": "code",
   "execution_count": null,
   "metadata": {},
   "outputs": [],
   "source": [
    "# criando o modelo\n",
    "params = {\n",
    "    'model': '...'\n",
    "}\n",
    "model = create_fine_tune(file_id=file_id, params=params)"
   ]
  },
  {
   "cell_type": "code",
   "execution_count": null,
   "metadata": {},
   "outputs": [],
   "source": [
    "# pegando o model_id\n",
    "model_id = model['id']"
   ]
  },
  {
   "cell_type": "code",
   "execution_count": null,
   "metadata": {},
   "outputs": [],
   "source": [
    "# monitorando\n",
    "monitor_fine_tune(model_id=model_id)"
   ]
  },
  {
   "cell_type": "code",
   "execution_count": null,
   "metadata": {},
   "outputs": [],
   "source": [
    "# pegando nome do modelo\n",
    "model_retrieve = openai.FineTune.retrieve(id=model_id)\n",
    "fine_tuned_model = model_retrieve['fine_tuned_model']\n",
    "hyperparams = model_retrieve['hyperparams']\n",
    "fine_tuned_model, hyperparams"
   ]
  }
 ],
 "metadata": {
  "kernelspec": {
   "display_name": "base",
   "language": "python",
   "name": "python3"
  },
  "language_info": {
   "codemirror_mode": {
    "name": "ipython",
    "version": 3
   },
   "file_extension": ".py",
   "mimetype": "text/x-python",
   "name": "python",
   "nbconvert_exporter": "python",
   "pygments_lexer": "ipython3",
   "version": "3.9.7"
  },
  "orig_nbformat": 4
 },
 "nbformat": 4,
 "nbformat_minor": 2
}
