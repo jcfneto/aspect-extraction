{
 "cells": [
  {
   "cell_type": "code",
   "execution_count": null,
   "metadata": {},
   "outputs": [],
   "source": [
    "import openai\n",
    "import pandas as pd\n",
    "import polars as pl\n",
    "\n",
    "openai.api_key = ''"
   ]
  },
  {
   "cell_type": "code",
   "execution_count": null,
   "metadata": {},
   "outputs": [],
   "source": [
    "def completion(model_name: str, prompt: str) -> dict:\n",
    "    \"\"\"Get a completion from the fine-tuned model.\n",
    "\n",
    "    Args:\n",
    "        model_name (str): name of the fine-tuned model.\n",
    "        prompt (str): prompt to be completed.\n",
    "\n",
    "    Returns:\n",
    "        response (dict): response from the OpenAI API.\n",
    "    \"\"\"\n",
    "    response = openai.Completion.create(\n",
    "        model=model_name,\n",
    "        prompt=prompt\n",
    "    )\n",
    "    return response"
   ]
  },
  {
   "cell_type": "code",
   "execution_count": null,
   "metadata": {},
   "outputs": [],
   "source": [
    "# listando os modelos treinados\n",
    "models = openai.Model.list()\n",
    "model_name = models['data'][-1]['id']"
   ]
  },
  {
   "cell_type": "code",
   "execution_count": null,
   "metadata": {},
   "outputs": [],
   "source": [
    "# importando os dados de teste\n",
    "test = pl.read_csv('../datasets/gpt/tv/test.csv')\n",
    "prompts = [s for s in test['review'].to_list()]"
   ]
  },
  {
   "cell_type": "code",
   "execution_count": null,
   "metadata": {},
   "outputs": [],
   "source": [
    "# buscando os resultados\n",
    "responses = []\n",
    "for prompt in prompts:\n",
    "    response = completion('ft:gpt-3.5-turbo-0613:personal::7rSxQMOV', prompt)\n",
    "    responses.append(response['choices'][0]['text'])"
   ]
  },
  {
   "cell_type": "code",
   "execution_count": null,
   "metadata": {},
   "outputs": [],
   "source": [
    "# limpando a resposta. nesse caso, a resposta termina no \".\".\n",
    "# conforme a estrutura do dado de treinamento\n",
    "# (ver /datasets/gpt/tv/train_prepared.jsonl).\n",
    "def clean_response(response):\n",
    "    response = response.split('.')[0]\n",
    "    response = response.split('\\n')\n",
    "    response[0] = response[0][1:]\n",
    "    return response\n",
    "\n",
    "responses_cleaned = [clean_response(r) for r in responses]"
   ]
  },
  {
   "cell_type": "code",
   "execution_count": null,
   "metadata": {},
   "outputs": [],
   "source": [
    "# salvando os resultados\n",
    "test = pd.read_csv('../datasets/gpt/tv/test.csv')\n",
    "test['curie_results'] = responses_cleaned"
   ]
  },
  {
   "cell_type": "code",
   "execution_count": null,
   "metadata": {},
   "outputs": [],
   "source": [
    "# gravando o resultado\n",
    "test.to_csv('../datasets/gpt/tv/test.csv', index=False)"
   ]
  }
 ],
 "metadata": {
  "kernelspec": {
   "display_name": "base",
   "language": "python",
   "name": "python3"
  },
  "language_info": {
   "codemirror_mode": {
    "name": "ipython",
    "version": 3
   },
   "file_extension": ".py",
   "mimetype": "text/x-python",
   "name": "python",
   "nbconvert_exporter": "python",
   "pygments_lexer": "ipython3",
   "version": "3.9.7"
  },
  "orig_nbformat": 4
 },
 "nbformat": 4,
 "nbformat_minor": 2
}
